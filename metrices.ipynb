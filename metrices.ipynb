{
 "cells": [
  {
   "cell_type": "code",
   "execution_count": 1,
   "id": "67901224-3c46-4258-a38d-a6dc91ed4d17",
   "metadata": {},
   "outputs": [
    {
     "ename": "NameError",
     "evalue": "name 'X_emoji' is not defined",
     "output_type": "error",
     "traceback": [
      "\u001b[0;31m---------------------------------------------------------------------------\u001b[0m",
      "\u001b[0;31mNameError\u001b[0m                                 Traceback (most recent call last)",
      "Cell \u001b[0;32mIn[1], line 5\u001b[0m\n\u001b[1;32m      2\u001b[0m \u001b[38;5;28;01mimport\u001b[39;00m \u001b[38;5;21;01mtorch\u001b[39;00m\n\u001b[1;32m      4\u001b[0m \u001b[38;5;66;03m# Assuming X_emoji and X_text_emoji are your input features, and Y is the target sentiment score\u001b[39;00m\n\u001b[0;32m----> 5\u001b[0m X_emoji_train, X_emoji_test, Y_train, Y_test \u001b[38;5;241m=\u001b[39m train_test_split(\u001b[43mX_emoji\u001b[49m, Y, test_size\u001b[38;5;241m=\u001b[39m\u001b[38;5;241m0.2\u001b[39m, random_state\u001b[38;5;241m=\u001b[39m\u001b[38;5;241m42\u001b[39m)\n\u001b[1;32m      6\u001b[0m X_text_emoji_train, X_text_emoji_test, _, _ \u001b[38;5;241m=\u001b[39m train_test_split(X_text_emoji, Y, test_size\u001b[38;5;241m=\u001b[39m\u001b[38;5;241m0.2\u001b[39m, random_state\u001b[38;5;241m=\u001b[39m\u001b[38;5;241m42\u001b[39m)\n\u001b[1;32m      8\u001b[0m \u001b[38;5;66;03m# Convert to PyTorch tensors\u001b[39;00m\n",
      "\u001b[0;31mNameError\u001b[0m: name 'X_emoji' is not defined"
     ]
    }
   ],
   "source": [
    "from sklearn.model_selection import train_test_split\n",
    "import torch\n",
    "\n",
    "# Assuming X_emoji and X_text_emoji are your input features, and Y is the target sentiment score\n",
    "X_emoji_train, X_emoji_test, Y_train, Y_test = train_test_split(X_emoji, Y, test_size=0.2, random_state=42)\n",
    "X_text_emoji_train, X_text_emoji_test, _, _ = train_test_split(X_text_emoji, Y, test_size=0.2, random_state=42)\n",
    "\n",
    "# Convert to PyTorch tensors\n",
    "X_test_emoji = torch.tensor(X_emoji_test, dtype=torch.float32)\n",
    "X_test_text_emoji = torch.tensor(X_text_emoji_test, dtype=torch.float32)\n",
    "Y_test = Y_test  # Keep as NumPy array\n"
   ]
  },
  {
   "cell_type": "code",
   "execution_count": null,
   "id": "a68628a0-c5f9-49e6-a628-f1f6da10c8e7",
   "metadata": {},
   "outputs": [],
   "source": []
  }
 ],
 "metadata": {
  "kernelspec": {
   "display_name": "Python 3 (ipykernel)",
   "language": "python",
   "name": "python3"
  },
  "language_info": {
   "codemirror_mode": {
    "name": "ipython",
    "version": 3
   },
   "file_extension": ".py",
   "mimetype": "text/x-python",
   "name": "python",
   "nbconvert_exporter": "python",
   "pygments_lexer": "ipython3",
   "version": "3.12.7"
  }
 },
 "nbformat": 4,
 "nbformat_minor": 5
}
