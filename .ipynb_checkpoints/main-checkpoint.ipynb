{
 "cells": [
  {
   "cell_type": "code",
   "execution_count": 4,
   "id": "ba183ff8-5b96-4bca-b0d1-c6a4eceeb73d",
   "metadata": {},
   "outputs": [
    {
     "name": "stdout",
     "output_type": "stream",
     "text": [
      "                    description  score emoji\n",
      "0                 grinning face   1.00     😀\n",
      "1  smiling face with open mouth   1.00     😃\n",
      "2                  winking face   1.00     😉\n",
      "3                    robot face   0.50     🤖\n",
      "4              father christmas   0.75    🎅🏻\n"
     ]
    }
   ],
   "source": [
    "import pandas as pd\n",
    "import numpy as np\n",
    "# Load dataset from .parquet file\n",
    "df = pd.read_csv(\"dataset/final_data.csv\")\n",
    "\n",
    "# Display first few rows\n",
    "print(df.head())\n"
   ]
  },
  {
   "cell_type": "code",
   "execution_count": null,
   "id": "838df4f8-fa67-4f27-b487-3deddc9e5de9",
   "metadata": {},
   "outputs": [
    {
     "name": "stderr",
     "output_type": "stream",
     "text": [
      "/var/home/ujjain/.local/lib/python3.12/site-packages/transformers/tokenization_utils_base.py:1601: FutureWarning: `clean_up_tokenization_spaces` was not set. It will be set to `True` by default. This behavior will be depracted in transformers v4.45, and will be then set to `False` by default. For more details check this issue: https://github.com/huggingface/transformers/issues/31884\n",
      "  warnings.warn(\n"
     ]
    }
   ],
   "source": [
    "from transformers import BertTokenizer, BertModel\n",
    "import torch\n",
    "\n",
    "# Load BERT model and tokenizer\n",
    "tokenizer = BertTokenizer.from_pretrained(\"bert-base-uncased\")\n",
    "bert_model = BertModel.from_pretrained(\"bert-base-uncased\")\n",
    "\n",
    "# Function to get text embeddings\n",
    "def get_bert_embedding(text):\n",
    "    inputs = tokenizer(text, return_tensors=\"pt\", padding=True, truncation=True, max_length=50)\n",
    "    outputs = bert_model(**inputs)\n",
    "    return outputs.last_hidden_state[:, 0, :].detach().numpy().squeeze()  # Take only CLS token\n",
    "\n",
    "\n",
    "# Apply to dataset\n",
    "df[\"text_embedding\"] = df[\"description\"].apply(get_bert_embedding)\n"
   ]
  },
  {
   "cell_type": "code",
   "execution_count": null,
   "id": "8d5422f5-68ce-491b-a5ca-7668f8af062f",
   "metadata": {},
   "outputs": [],
   "source": [
    "from gensim.models import KeyedVectors\n",
    "\n",
    "# Load Emoji2Vec pre-trained embeddings\n",
    "emoji2vec_model = KeyedVectors.load_word2vec_format(\"emoji2vec/pre-trained/emoji2vec.bin\", binary=True)\n",
    "\n",
    "# Function to get emoji embeddings\n",
    "def get_emoji_embedding(emoji):\n",
    "    try:\n",
    "        return emoji2vec_model[emoji]\n",
    "    except KeyError:\n",
    "        return np.zeros((300,))  # 300D Zero vector if emoji not in vocab\n",
    "\n",
    "\n",
    "# Apply to dataset\n",
    "df[\"emoji_embedding\"] = df[\"emoji\"].apply(get_emoji_embedding)\n"
   ]
  },
  {
   "cell_type": "code",
   "execution_count": 4,
   "id": "4199f753-2977-43bd-96c2-0075796933c6",
   "metadata": {},
   "outputs": [
    {
     "name": "stdout",
     "output_type": "stream",
     "text": [
      "Mean Squared Error: 0.0210\n"
     ]
    }
   ],
   "source": [
    "from sklearn.model_selection import train_test_split\n",
    "from sklearn.ensemble import RandomForestRegressor\n",
    "from sklearn.metrics import mean_squared_error\n",
    "\n",
    "# Convert embeddings to NumPy arrays\n",
    "X_text = np.stack(df[\"text_embedding\"].values)\n",
    "X_emoji = np.stack(df[\"emoji_embedding\"].values)\n",
    "\n",
    "# Concatenate text & emoji embeddings\n",
    "X = np.hstack((X_text, X_emoji))\n",
    "y = df[\"score\"].values\n",
    "\n",
    "# Train-test split\n",
    "X_train, X_test, y_train, y_test = train_test_split(X, y, test_size=0.2, random_state=42)\n",
    "\n",
    "# Train a regression model\n",
    "model = RandomForestRegressor(n_estimators=100)\n",
    "model.fit(X_train, y_train)\n",
    "\n",
    "# Evaluate performance\n",
    "y_pred = model.predict(X_test)\n",
    "mse = mean_squared_error(y_test, y_pred)\n",
    "print(f\"Mean Squared Error: {mse:.4f}\")\n"
   ]
  },
  {
   "cell_type": "code",
   "execution_count": 5,
   "id": "3a5dd840-1dd2-4455-9433-5745861c39ec",
   "metadata": {},
   "outputs": [
    {
     "name": "stdout",
     "output_type": "stream",
     "text": [
      "Model saved successfully!\n"
     ]
    }
   ],
   "source": [
    "import pickle\n",
    "\n",
    "# Save the model\n",
    "with open(\"emoji_sentiment_RFR.pkl\", \"wb\") as f:\n",
    "    pickle.dump(model, f)\n",
    "\n",
    "print(\"Model saved successfully!\")\n"
   ]
  },
  {
   "cell_type": "markdown",
   "id": "99d39f44-3d6d-49c6-bdd4-1024f6ecc28e",
   "metadata": {},
   "source": [
    "# model trained on only emoji embeddings "
   ]
  },
  {
   "cell_type": "code",
   "execution_count": 6,
   "id": "cd79f432-5395-40b1-affa-784de20f9f1f",
   "metadata": {},
   "outputs": [
    {
     "name": "stdout",
     "output_type": "stream",
     "text": [
      "✅ Model retrained using only 300D emoji embeddings and saved as emoji_sentiment_RFR_300d.pkl\n"
     ]
    }
   ],
   "source": [
    "import pickle\n",
    "import numpy as np\n",
    "import gensim\n",
    "from sklearn.ensemble import RandomForestRegressor\n",
    "from sklearn.model_selection import train_test_split\n",
    "\n",
    "# Load Emoji2Vec model\n",
    "emoji_model = gensim.models.KeyedVectors.load_word2vec_format(\"emoji2vec/pre-trained/emoji2vec.bin\", binary=True)\n",
    "\n",
    "def get_emoji_embedding(emoji):\n",
    "    \"\"\"Extract embedding for a given emoji\"\"\"\n",
    "    try:\n",
    "        return emoji_model[emoji]\n",
    "    except KeyError:\n",
    "        return np.zeros(300)  # Return zero vector if emoji is not found\n",
    "\n",
    "# Load your dataset (assuming it's a CSV with 'emoji' and 'score' columns)\n",
    "import pandas as pd\n",
    "df = pd.read_csv(\"dataset/final_data.csv\")\n",
    "\n",
    "# Convert emojis to embeddings\n",
    "X = np.vstack([get_emoji_embedding(e) for e in df[\"emoji\"]])\n",
    "y = df[\"score\"].values\n",
    "\n",
    "# Train-test split\n",
    "X_train, X_test, y_train, y_test = train_test_split(X, y, test_size=0.2, random_state=42)\n",
    "\n",
    "# Train Random Forest Regressor\n",
    "model = RandomForestRegressor(n_estimators=100, random_state=42)\n",
    "model.fit(X_train, y_train)\n",
    "\n",
    "# Save the new model\n",
    "with open(\"emoji_sentiment_RFR_300d.pkl\", \"wb\") as f:\n",
    "    pickle.dump(model, f)\n",
    "\n",
    "print(\"✅ Model retrained using only 300D emoji embeddings and saved as emoji_sentiment_RFR_300d.pkl\")\n"
   ]
  },
  {
   "cell_type": "code",
   "execution_count": 21,
   "id": "351806a8-6f77-40c2-a27c-a6ca8be3cf35",
   "metadata": {},
   "outputs": [
    {
     "name": "stdout",
     "output_type": "stream",
     "text": [
      "Predicted Sentiment Score: 0.2375\n"
     ]
    }
   ],
   "source": [
    "import pickle\n",
    "\n",
    "# Load the trained model\n",
    "with open(\"model/emoji_sentiment_RFR_300d.pkl\", \"rb\") as f:\n",
    "    model = pickle.load(f)\n",
    "\n",
    "# Predict sentiment score for an emoji\n",
    "emoji_embedding = get_emoji_embedding(\"😟\").reshape(1, -1)\n",
    "predicted_score = model.predict(emoji_embedding)[0]\n",
    "\n",
    "print(f\"Predicted Sentiment Score: {predicted_score}\")\n"
   ]
  },
  {
   "cell_type": "code",
   "execution_count": null,
   "id": "83282569-df07-44c2-9615-a5de1239c594",
   "metadata": {},
   "outputs": [],
   "source": []
  }
 ],
 "metadata": {
  "kernelspec": {
   "display_name": "Python 3 (ipykernel)",
   "language": "python",
   "name": "python3"
  },
  "language_info": {
   "codemirror_mode": {
    "name": "ipython",
    "version": 3
   },
   "file_extension": ".py",
   "mimetype": "text/x-python",
   "name": "python",
   "nbconvert_exporter": "python",
   "pygments_lexer": "ipython3",
   "version": "3.12.7"
  }
 },
 "nbformat": 4,
 "nbformat_minor": 5
}
