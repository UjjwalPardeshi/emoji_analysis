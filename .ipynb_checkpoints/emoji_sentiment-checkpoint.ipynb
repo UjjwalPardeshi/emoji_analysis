{
 "cells": [
  {
   "cell_type": "code",
   "execution_count": 1,
   "id": "63f497f6-e4b0-4574-98b6-5e2018bbc77e",
   "metadata": {},
   "outputs": [
    {
     "name": "stdout",
     "output_type": "stream",
     "text": [
      "Defaulting to user installation because normal site-packages is not writeable\n",
      "Requirement already satisfied: pandas in /var/home/ujjain/.local/lib/python3.12/site-packages (2.2.3)\n",
      "Requirement already satisfied: pyarrow in /var/home/ujjain/.local/lib/python3.12/site-packages (18.1.0)\n",
      "Requirement already satisfied: numpy>=1.26.0 in /var/home/ujjain/.local/lib/python3.12/site-packages (from pandas) (1.26.4)\n",
      "Requirement already satisfied: python-dateutil>=2.8.2 in /usr/lib/python3.12/site-packages (from pandas) (2.8.2)\n",
      "Requirement already satisfied: pytz>=2020.1 in /var/home/ujjain/.local/lib/python3.12/site-packages (from pandas) (2024.2)\n",
      "Requirement already satisfied: tzdata>=2022.7 in /var/home/ujjain/.local/lib/python3.12/site-packages (from pandas) (2024.2)\n",
      "Requirement already satisfied: six>=1.5 in /usr/lib/python3.12/site-packages (from python-dateutil>=2.8.2->pandas) (1.16.0)\n",
      "Note: you may need to restart the kernel to use updated packages.\n"
     ]
    }
   ],
   "source": [
    "pip install pandas pyarrow\n"
   ]
  },
  {
   "cell_type": "code",
   "execution_count": 2,
   "id": "628972cb-7b67-4c4c-9e7d-fc3c5f8d75d8",
   "metadata": {},
   "outputs": [
    {
     "name": "stdout",
     "output_type": "stream",
     "text": [
      "                                               image  \\\n",
      "0  {'bytes': b'\\x89PNG\\r\\n\\x1a\\n\\x00\\x00\\x00\\rIHD...   \n",
      "1  {'bytes': b'\\x89PNG\\r\\n\\x1a\\n\\x00\\x00\\x00\\rIHD...   \n",
      "2  {'bytes': b'\\x89PNG\\r\\n\\x1a\\n\\x00\\x00\\x00\\rIHD...   \n",
      "3  {'bytes': b'\\x89PNG\\r\\n\\x1a\\n\\x00\\x00\\x00\\rIHD...   \n",
      "4  {'bytes': b'\\x89PNG\\r\\n\\x1a\\n\\x00\\x00\\x00\\rIHD...   \n",
      "\n",
      "                           text  \n",
      "0                 grinning face  \n",
      "1  smiling face with open mouth  \n",
      "2                  winking face  \n",
      "3                    robot face  \n",
      "4              father christmas  \n"
     ]
    }
   ],
   "source": [
    "import pandas as pd\n",
    "\n",
    "# Read the Parquet file\n",
    "df = pd.read_parquet(\"train-00000-of-00001-38cc4fa96c139e86.parquet\", engine=\"pyarrow\")  # or engine=\"fastparquet\"\n",
    "\n",
    "# Display first 5 rows\n",
    "print(df.head())\n"
   ]
  },
  {
   "cell_type": "code",
   "execution_count": 3,
   "id": "5f6125fe-a0be-4bc2-9b03-b663c8964950",
   "metadata": {},
   "outputs": [
    {
     "name": "stdout",
     "output_type": "stream",
     "text": [
      "<class 'pandas.core.frame.DataFrame'>\n",
      "RangeIndex: 2749 entries, 0 to 2748\n",
      "Data columns (total 2 columns):\n",
      " #   Column  Non-Null Count  Dtype \n",
      "---  ------  --------------  ----- \n",
      " 0   image   2749 non-null   object\n",
      " 1   text    2749 non-null   object\n",
      "dtypes: object(2)\n",
      "memory usage: 43.1+ KB\n",
      "None\n",
      "                                                    image  text\n",
      "count                                                2749  2749\n",
      "unique                                               2486  2229\n",
      "top     {'bytes': b'\\x89PNG\\r\\n\\x1a\\n\\x00\\x00\\x00\\rIHD...  bath\n",
      "freq                                                    3     6\n",
      "Index(['image', 'text'], dtype='object')\n"
     ]
    }
   ],
   "source": [
    "print(df.info())  # Summary of dataset\n",
    "print(df.describe())  # Statistics for numerical columns\n",
    "print(df.columns)  # List of column names\n"
   ]
  },
  {
   "cell_type": "code",
   "execution_count": 6,
   "id": "09223b72-6cea-4ddb-b09a-da250b13f0e4",
   "metadata": {},
   "outputs": [
    {
     "name": "stdout",
     "output_type": "stream",
     "text": [
      "                           text\n",
      "0                 grinning face\n",
      "1  smiling face with open mouth\n",
      "2                  winking face\n",
      "3                    robot face\n",
      "4              father christmas\n"
     ]
    }
   ],
   "source": [
    "print(df[['text']].head())  "
   ]
  },
  {
   "cell_type": "markdown",
   "id": "22efb728-3000-4c9e-a8f5-7cf8161ddecf",
   "metadata": {},
   "source": [
    "# we will assign sentiment labels based on the emoji descriptions.\n"
   ]
  },
  {
   "cell_type": "code",
   "execution_count": 9,
   "id": "68230247-14de-4032-9ff9-6d23d376dfc6",
   "metadata": {},
   "outputs": [],
   "source": [
    "import pandas as pd\n",
    "from PIL import Image\n",
    "import io\n",
    "\n",
    "# Load dataset\n",
    "df = pd.read_parquet(\"train-00000-of-00001-38cc4fa96c139e86.parquet\", engine=\"pyarrow\")\n",
    "\n",
    "# Function to convert binary image data into a displayable image\n",
    "def show_image(image_bytes):\n",
    "    image_data = image_bytes[\"bytes\"]  # Extract bytes\n",
    "    image = Image.open(io.BytesIO(image_data))  # Convert to an image\n",
    "    image.show()\n",
    "\n",
    "# Display the first emoji image\n",
    "show_image(df.iloc[0][\"image\"])\n"
   ]
  },
  {
   "cell_type": "code",
   "execution_count": 12,
   "id": "dc3384d6-88ab-4823-bfbe-2c447ff721db",
   "metadata": {},
   "outputs": [
    {
     "name": "stdout",
     "output_type": "stream",
     "text": [
      "sentiment\n",
      " 0    2738\n",
      " 1       9\n",
      "-1       2\n",
      "Name: count, dtype: int64\n"
     ]
    }
   ],
   "source": [
    "import pandas as pd\n",
    "\n",
    "# Load dataset\n",
    "df = pd.read_parquet(\"train-00000-of-00001-38cc4fa96c139e86.parquet\", engine=\"pyarrow\")\n",
    "\n",
    "# Load Emoji Sentiment Dataset\n",
    "emoji_sentiment_data = {\n",
    "    \"grinning face\": 1,  # Positive\n",
    "    \"smiling face with open mouth\": 1,  \n",
    "    \"winking face\": 1,  \n",
    "    \"robot face\": 0,  \n",
    "    \"father christmas\": 1,  \n",
    "    \"crying face\": -1,  \n",
    "    \"angry face\": -1,  \n",
    "}  # Use a real dataset here\n",
    "\n",
    "# Assign sentiment dynamically\n",
    "df[\"sentiment\"] = df[\"text\"].map(lambda x: emoji_sentiment_data.get(x, 0))\n",
    "\n",
    "# View updated dataset\n",
    "print(df[\"sentiment\"].value_counts())\n"
   ]
  },
  {
   "cell_type": "code",
   "execution_count": 11,
   "id": "38e00de6-2a34-46f8-b715-7020b62aad09",
   "metadata": {},
   "outputs": [
    {
     "data": {
      "image/png": "[encoded data removed]",
      "text/plain": [
       "<Figure size 640x480 with 1 Axes>"
      ]
     },
     "metadata": {},
     "output_type": "display_data"
    }
   ],
   "source": [
    "import matplotlib.pyplot as plt\n",
    "\n",
    "# Plot sentiment distribution\n",
    "df[\"sentiment\"].value_counts().plot(kind=\"bar\", color=[\"red\", \"gray\", \"green\"])\n",
    "plt.xlabel(\"Sentiment\")\n",
    "plt.ylabel(\"Frequency\")\n",
    "plt.title(\"Emoji Sentiment Distribution\")\n",
    "plt.xticks(ticks=[-1, 0, 1], labels=[\"Negative\", \"Neutral\", \"Positive\"])\n",
    "plt.show()\n"
   ]
  },
  {
   "cell_type": "markdown",
   "id": "158daee9-e0a3-4022-8439-6c53e06106e8",
   "metadata": {},
   "source": [
    "# Hugging Face's DistilBERT to classify emoji sentiment based on text descriptions."
   ]
  },
  {
   "cell_type": "code",
   "execution_count": 13,
   "id": "c13216c1-b97f-4a03-a346-b7922ece7076",
   "metadata": {},
   "outputs": [
    {
     "name": "stdout",
     "output_type": "stream",
     "text": [
      "Defaulting to user installation because normal site-packages is not writeable\n",
      "Requirement already satisfied: transformers in /var/home/ujjain/.local/lib/python3.12/site-packages (4.44.2)\n",
      "Requirement already satisfied: torch in /var/home/ujjain/.local/lib/python3.12/site-packages (2.4.1)\n",
      "Requirement already satisfied: pandas in /var/home/ujjain/.local/lib/python3.12/site-packages (2.2.3)\n",
      "Requirement already satisfied: filelock in /var/home/ujjain/.local/lib/python3.12/site-packages (from transformers) (3.16.1)\n",
      "Requirement already satisfied: huggingface-hub<1.0,>=0.23.2 in /var/home/ujjain/.local/lib/python3.12/site-packages (from transformers) (0.25.1)\n",
      "Requirement already satisfied: numpy>=1.17 in /var/home/ujjain/.local/lib/python3.12/site-packages (from transformers) (1.26.4)\n",
      "Requirement already satisfied: packaging>=20.0 in /usr/lib/python3.12/site-packages (from transformers) (23.1)\n",
      "Requirement already satisfied: pyyaml>=5.1 in /usr/lib64/python3.12/site-packages (from transformers) (6.0.1)\n",
      "Requirement already satisfied: regex!=2019.12.17 in /usr/lib64/python3.12/site-packages (from transformers) (2024.4.28)\n",
      "Requirement already satisfied: requests in /var/home/ujjain/.local/lib/python3.12/site-packages (from transformers) (2.32.3)\n",
      "Requirement already satisfied: safetensors>=0.4.1 in /var/home/ujjain/.local/lib/python3.12/site-packages (from transformers) (0.4.5)\n",
      "Requirement already satisfied: tokenizers<0.20,>=0.19 in /var/home/ujjain/.local/lib/python3.12/site-packages (from transformers) (0.19.1)\n",
      "Requirement already satisfied: tqdm>=4.27 in /var/home/ujjain/.local/lib/python3.12/site-packages (from transformers) (4.66.5)\n",
      "Requirement already satisfied: typing-extensions>=4.8.0 in /usr/lib/python3.12/site-packages (from torch) (4.12.2)\n",
      "Requirement already satisfied: sympy in /var/home/ujjain/.local/lib/python3.12/site-packages (from torch) (1.13.3)\n",
      "Requirement already satisfied: networkx in /var/home/ujjain/.local/lib/python3.12/site-packages (from torch) (3.3)\n",
      "Requirement already satisfied: jinja2 in /usr/lib/python3.12/site-packages (from torch) (3.1.4)\n",
      "Requirement already satisfied: fsspec in /var/home/ujjain/.local/lib/python3.12/site-packages (from torch) (2024.9.0)\n",
      "Requirement already satisfied: setuptools in /usr/lib/python3.12/site-packages (from torch) (67.7.2)\n",
      "Requirement already satisfied: nvidia-cuda-nvrtc-cu12==12.1.105 in /var/home/ujjain/.local/lib/python3.12/site-packages (from torch) (12.1.105)\n",
      "Requirement already satisfied: nvidia-cuda-runtime-cu12==12.1.105 in /var/home/ujjain/.local/lib/python3.12/site-packages (from torch) (12.1.105)\n",
      "Requirement already satisfied: nvidia-cuda-cupti-cu12==12.1.105 in /var/home/ujjain/.local/lib/python3.12/site-packages (from torch) (12.1.105)\n",
      "Requirement already satisfied: nvidia-cudnn-cu12==9.1.0.70 in /var/home/ujjain/.local/lib/python3.12/site-packages (from torch) (9.1.0.70)\n",
      "Requirement already satisfied: nvidia-cublas-cu12==12.1.3.1 in /var/home/ujjain/.local/lib/python3.12/site-packages (from torch) (12.1.3.1)\n",
      "Requirement already satisfied: nvidia-cufft-cu12==11.0.2.54 in /var/home/ujjain/.local/lib/python3.12/site-packages (from torch) (11.0.2.54)\n",
      "Requirement already satisfied: nvidia-curand-cu12==10.3.2.106 in /var/home/ujjain/.local/lib/python3.12/site-packages (from torch) (10.3.2.106)\n",
      "Requirement already satisfied: nvidia-cusolver-cu12==11.4.5.107 in /var/home/ujjain/.local/lib/python3.12/site-packages (from torch) (11.4.5.107)\n",
      "Requirement already satisfied: nvidia-cusparse-cu12==12.1.0.106 in /var/home/ujjain/.local/lib/python3.12/site-packages (from torch) (12.1.0.106)\n",
      "Requirement already satisfied: nvidia-nccl-cu12==2.20.5 in /var/home/ujjain/.local/lib/python3.12/site-packages (from torch) (2.20.5)\n",
      "Requirement already satisfied: nvidia-nvtx-cu12==12.1.105 in /var/home/ujjain/.local/lib/python3.12/site-packages (from torch) (12.1.105)\n",
      "Requirement already satisfied: triton==3.0.0 in /var/home/ujjain/.local/lib/python3.12/site-packages (from torch) (3.0.0)\n",
      "Requirement already satisfied: nvidia-nvjitlink-cu12 in /var/home/ujjain/.local/lib/python3.12/site-packages (from nvidia-cusolver-cu12==11.4.5.107->torch) (12.6.68)\n",
      "Requirement already satisfied: python-dateutil>=2.8.2 in /usr/lib/python3.12/site-packages (from pandas) (2.8.2)\n",
      "Requirement already satisfied: pytz>=2020.1 in /var/home/ujjain/.local/lib/python3.12/site-packages (from pandas) (2024.2)\n",
      "Requirement already satisfied: tzdata>=2022.7 in /var/home/ujjain/.local/lib/python3.12/site-packages (from pandas) (2024.2)\n",
      "Requirement already satisfied: six>=1.5 in /usr/lib/python3.12/site-packages (from python-dateutil>=2.8.2->pandas) (1.16.0)\n",
      "Requirement already satisfied: MarkupSafe>=2.0 in /usr/lib64/python3.12/site-packages (from jinja2->torch) (2.1.3)\n",
      "Requirement already satisfied: charset-normalizer<4,>=2 in /usr/lib/python3.12/site-packages (from requests->transformers) (3.3.2)\n",
      "Requirement already satisfied: idna<4,>=2.5 in /var/home/ujjain/.local/lib/python3.12/site-packages (from requests->transformers) (3.10)\n",
      "Requirement already satisfied: urllib3<3,>=1.21.1 in /var/home/ujjain/.local/lib/python3.12/site-packages (from requests->transformers) (2.2.3)\n",
      "Requirement already satisfied: certifi>=2017.4.17 in /var/home/ujjain/.local/lib/python3.12/site-packages (from requests->transformers) (2024.8.30)\n",
      "Requirement already satisfied: mpmath<1.4,>=1.1.0 in /var/home/ujjain/.local/lib/python3.12/site-packages (from sympy->torch) (1.3.0)\n",
      "Note: you may need to restart the kernel to use updated packages.\n"
     ]
    }
   ],
   "source": [
    "pip install transformers torch pandas\n"
   ]
  },
  {
   "cell_type": "code",
   "execution_count": 17,
   "id": "a131e073-2d66-4d78-81eb-58d67282a588",
   "metadata": {},
   "outputs": [
    {
     "name": "stdout",
     "output_type": "stream",
     "text": [
      "Found existing installation: keras 3.5.0\n",
      "Uninstalling keras-3.5.0:\n",
      "  Successfully uninstalled keras-3.5.0\n",
      "Note: you may need to restart the kernel to use updated packages.\n"
     ]
    }
   ],
   "source": [
    "pip uninstall keras -y\n"
   ]
  },
  {
   "cell_type": "code",
   "execution_count": 18,
   "id": "f99dbe33-763e-4f70-934f-ad9434341640",
   "metadata": {},
   "outputs": [
    {
     "name": "stdout",
     "output_type": "stream",
     "text": [
      "Defaulting to user installation because normal site-packages is not writeable\n",
      "Collecting keras==2.14.0\n",
      "  Obtaining dependency information for keras==2.14.0 from https://files.pythonhosted.org/packages/fe/58/34d4d8f1aa11120c2d36d7ad27d0526164b1a8ae45990a2fede31d0e59bf/keras-2.14.0-py3-none-any.whl.metadata\n",
      "  Downloading keras-2.14.0-py3-none-any.whl.metadata (2.4 kB)\n",
      "Downloading keras-2.14.0-py3-none-any.whl (1.7 MB)\n",
      "\u001b[2K   \u001b[38;2;114;156;31m━━━━━━━━━━━━━━━━━━━━━━━━━━━━━━━━━━━━━━━━\u001b[0m \u001b[32m1.7/1.7 MB\u001b[0m \u001b[31m6.7 MB/s\u001b[0m eta \u001b[36m0:00:00\u001b[0mm eta \u001b[36m0:00:01\u001b[0m0:01\u001b[0m:01\u001b[0m\n",
      "\u001b[?25hInstalling collected packages: keras\n",
      "\u001b[31mERROR: pip's dependency resolver does not currently take into account all the packages that are installed. This behaviour is the source of the following dependency conflicts.\n",
      "tensorflow 2.18.0 requires keras>=3.5.0, but you have keras 2.14.0 which is incompatible.\u001b[0m\u001b[31m\n",
      "\u001b[0mSuccessfully installed keras-2.14.0\n",
      "Note: you may need to restart the kernel to use updated packages.\n"
     ]
    }
   ],
   "source": [
    "pip install keras==2.14.0\n"
   ]
  },
  {
   "cell_type": "code",
   "execution_count": 19,
   "id": "799252a7-75b8-4801-9ee0-fadebc913654",
   "metadata": {},
   "outputs": [
    {
     "name": "stdout",
     "output_type": "stream",
     "text": [
      "Defaulting to user installation because normal site-packages is not writeable\n",
      "Requirement already satisfied: tf-keras in /var/home/ujjain/.local/lib/python3.12/site-packages (2.18.0)\n",
      "Requirement already satisfied: tensorflow<2.19,>=2.18 in /var/home/ujjain/.local/lib/python3.12/site-packages (from tf-keras) (2.18.0)\n",
      "Requirement already satisfied: absl-py>=1.0.0 in /var/home/ujjain/.local/lib/python3.12/site-packages (from tensorflow<2.19,>=2.18->tf-keras) (2.1.0)\n",
      "Requirement already satisfied: astunparse>=1.6.0 in /var/home/ujjain/.local/lib/python3.12/site-packages (from tensorflow<2.19,>=2.18->tf-keras) (1.6.3)\n",
      "Requirement already satisfied: flatbuffers>=24.3.25 in /var/home/ujjain/.local/lib/python3.12/site-packages (from tensorflow<2.19,>=2.18->tf-keras) (24.3.25)\n",
      "Requirement already satisfied: gast!=0.5.0,!=0.5.1,!=0.5.2,>=0.2.1 in /var/home/ujjain/.local/lib/python3.12/site-packages (from tensorflow<2.19,>=2.18->tf-keras) (0.6.0)\n",
      "Requirement already satisfied: google-pasta>=0.1.1 in /var/home/ujjain/.local/lib/python3.12/site-packages (from tensorflow<2.19,>=2.18->tf-keras) (0.2.0)\n",
      "Requirement already satisfied: libclang>=13.0.0 in /var/home/ujjain/.local/lib/python3.12/site-packages (from tensorflow<2.19,>=2.18->tf-keras) (18.1.1)\n",
      "Requirement already satisfied: opt-einsum>=2.3.2 in /var/home/ujjain/.local/lib/python3.12/site-packages (from tensorflow<2.19,>=2.18->tf-keras) (3.3.0)\n",
      "Requirement already satisfied: packaging in /usr/lib/python3.12/site-packages (from tensorflow<2.19,>=2.18->tf-keras) (23.1)\n",
      "Requirement already satisfied: protobuf!=4.21.0,!=4.21.1,!=4.21.2,!=4.21.3,!=4.21.4,!=4.21.5,<6.0.0dev,>=3.20.3 in /var/home/ujjain/.local/lib/python3.12/site-packages (from tensorflow<2.19,>=2.18->tf-keras) (5.28.2)\n",
      "Requirement already satisfied: requests<3,>=2.21.0 in /var/home/ujjain/.local/lib/python3.12/site-packages (from tensorflow<2.19,>=2.18->tf-keras) (2.32.3)\n",
      "Requirement already satisfied: setuptools in /usr/lib/python3.12/site-packages (from tensorflow<2.19,>=2.18->tf-keras) (67.7.2)\n",
      "Requirement already satisfied: six>=1.12.0 in /usr/lib/python3.12/site-packages (from tensorflow<2.19,>=2.18->tf-keras) (1.16.0)\n",
      "Requirement already satisfied: termcolor>=1.1.0 in /var/home/ujjain/.local/lib/python3.12/site-packages (from tensorflow<2.19,>=2.18->tf-keras) (2.4.0)\n",
      "Requirement already satisfied: typing-extensions>=3.6.6 in /usr/lib/python3.12/site-packages (from tensorflow<2.19,>=2.18->tf-keras) (4.12.2)\n",
      "Requirement already satisfied: wrapt>=1.11.0 in /usr/lib64/python3.12/site-packages (from tensorflow<2.19,>=2.18->tf-keras) (1.15.0)\n",
      "Requirement already satisfied: grpcio<2.0,>=1.24.3 in /var/home/ujjain/.local/lib/python3.12/site-packages (from tensorflow<2.19,>=2.18->tf-keras) (1.67.0)\n",
      "Requirement already satisfied: tensorboard<2.19,>=2.18 in /var/home/ujjain/.local/lib/python3.12/site-packages (from tensorflow<2.19,>=2.18->tf-keras) (2.18.0)\n",
      "Collecting keras>=3.5.0 (from tensorflow<2.19,>=2.18->tf-keras)\n",
      "  Obtaining dependency information for keras>=3.5.0 from https://files.pythonhosted.org/packages/fe/cf/aea9087c4d7fafe956a0cc0ff6c3327d10fb8442cda50f992a2186921fa0/keras-3.8.0-py3-none-any.whl.metadata\n",
      "  Downloading keras-3.8.0-py3-none-any.whl.metadata (5.8 kB)\n",
      "Requirement already satisfied: numpy<2.1.0,>=1.26.0 in /var/home/ujjain/.local/lib/python3.12/site-packages (from tensorflow<2.19,>=2.18->tf-keras) (1.26.4)\n",
      "Requirement already satisfied: h5py>=3.11.0 in /var/home/ujjain/.local/lib/python3.12/site-packages (from tensorflow<2.19,>=2.18->tf-keras) (3.11.0)\n",
      "Requirement already satisfied: ml-dtypes<0.5.0,>=0.4.0 in /var/home/ujjain/.local/lib/python3.12/site-packages (from tensorflow<2.19,>=2.18->tf-keras) (0.4.1)\n",
      "Requirement already satisfied: wheel<1.0,>=0.23.0 in /var/home/ujjain/.local/lib/python3.12/site-packages (from astunparse>=1.6.0->tensorflow<2.19,>=2.18->tf-keras) (0.44.0)\n",
      "Requirement already satisfied: rich in /var/home/ujjain/.local/lib/python3.12/site-packages (from keras>=3.5.0->tensorflow<2.19,>=2.18->tf-keras) (13.8.1)\n",
      "Requirement already satisfied: namex in /var/home/ujjain/.local/lib/python3.12/site-packages (from keras>=3.5.0->tensorflow<2.19,>=2.18->tf-keras) (0.0.8)\n",
      "Requirement already satisfied: optree in /var/home/ujjain/.local/lib/python3.12/site-packages (from keras>=3.5.0->tensorflow<2.19,>=2.18->tf-keras) (0.12.1)\n",
      "Requirement already satisfied: charset-normalizer<4,>=2 in /usr/lib/python3.12/site-packages (from requests<3,>=2.21.0->tensorflow<2.19,>=2.18->tf-keras) (3.3.2)\n",
      "Requirement already satisfied: idna<4,>=2.5 in /var/home/ujjain/.local/lib/python3.12/site-packages (from requests<3,>=2.21.0->tensorflow<2.19,>=2.18->tf-keras) (3.10)\n",
      "Requirement already satisfied: urllib3<3,>=1.21.1 in /var/home/ujjain/.local/lib/python3.12/site-packages (from requests<3,>=2.21.0->tensorflow<2.19,>=2.18->tf-keras) (2.2.3)\n",
      "Requirement already satisfied: certifi>=2017.4.17 in /var/home/ujjain/.local/lib/python3.12/site-packages (from requests<3,>=2.21.0->tensorflow<2.19,>=2.18->tf-keras) (2024.8.30)\n",
      "Requirement already satisfied: markdown>=2.6.8 in /var/home/ujjain/.local/lib/python3.12/site-packages (from tensorboard<2.19,>=2.18->tensorflow<2.19,>=2.18->tf-keras) (3.7)\n",
      "Requirement already satisfied: tensorboard-data-server<0.8.0,>=0.7.0 in /var/home/ujjain/.local/lib/python3.12/site-packages (from tensorboard<2.19,>=2.18->tensorflow<2.19,>=2.18->tf-keras) (0.7.2)\n",
      "Requirement already satisfied: werkzeug>=1.0.1 in /var/home/ujjain/.local/lib/python3.12/site-packages (from tensorboard<2.19,>=2.18->tensorflow<2.19,>=2.18->tf-keras) (3.0.4)\n",
      "Requirement already satisfied: MarkupSafe>=2.1.1 in /usr/lib64/python3.12/site-packages (from werkzeug>=1.0.1->tensorboard<2.19,>=2.18->tensorflow<2.19,>=2.18->tf-keras) (2.1.3)\n",
      "Requirement already satisfied: markdown-it-py>=2.2.0 in /var/home/ujjain/.local/lib/python3.12/site-packages (from rich->keras>=3.5.0->tensorflow<2.19,>=2.18->tf-keras) (3.0.0)\n",
      "Requirement already satisfied: pygments<3.0.0,>=2.13.0 in /var/home/ujjain/.local/lib/python3.12/site-packages (from rich->keras>=3.5.0->tensorflow<2.19,>=2.18->tf-keras) (2.18.0)\n",
      "Requirement already satisfied: mdurl~=0.1 in /var/home/ujjain/.local/lib/python3.12/site-packages (from markdown-it-py>=2.2.0->rich->keras>=3.5.0->tensorflow<2.19,>=2.18->tf-keras) (0.1.2)\n",
      "Downloading keras-3.8.0-py3-none-any.whl (1.3 MB)\n",
      "\u001b[2K   \u001b[38;2;114;156;31m━━━━━━━━━━━━━━━━━━━━━━━━━━━━━━━━━━━━━━━━\u001b[0m \u001b[32m1.3/1.3 MB\u001b[0m \u001b[31m7.6 MB/s\u001b[0m eta \u001b[36m0:00:00\u001b[0m MB/s\u001b[0m eta \u001b[36m0:00:01\u001b[0m:01\u001b[0m\n",
      "\u001b[?25hInstalling collected packages: keras\n",
      "  Attempting uninstall: keras\n",
      "    Found existing installation: keras 2.14.0\n",
      "    Uninstalling keras-2.14.0:\n",
      "      Successfully uninstalled keras-2.14.0\n",
      "Successfully installed keras-3.8.0\n",
      "Note: you may need to restart the kernel to use updated packages.\n"
     ]
    }
   ],
   "source": [
    "pip install tf-keras\n"
   ]
  },
  {
   "cell_type": "code",
   "execution_count": 1,
   "id": "7abb2328-823a-4bb8-94b9-a47207b94c2e",
   "metadata": {},
   "outputs": [
    {
     "name": "stderr",
     "output_type": "stream",
     "text": [
      "2025-02-08 17:57:16.654164: I tensorflow/core/util/port.cc:153] oneDNN custom operations are on. You may see slightly different numerical results due to floating-point round-off errors from different computation orders. To turn them off, set the environment variable `TF_ENABLE_ONEDNN_OPTS=0`.\n",
      "2025-02-08 17:57:16.678722: E external/local_xla/xla/stream_executor/cuda/cuda_fft.cc:477] Unable to register cuFFT factory: Attempting to register factory for plugin cuFFT when one has already been registered\n",
      "WARNING: All log messages before absl::InitializeLog() is called are written to STDERR\n",
      "E0000 00:00:1739017636.713791   86583 cuda_dnn.cc:8310] Unable to register cuDNN factory: Attempting to register factory for plugin cuDNN when one has already been registered\n",
      "E0000 00:00:1739017636.721961   86583 cuda_blas.cc:1418] Unable to register cuBLAS factory: Attempting to register factory for plugin cuBLAS when one has already been registered\n",
      "2025-02-08 17:57:16.748937: I tensorflow/core/platform/cpu_feature_guard.cc:210] This TensorFlow binary is optimized to use available CPU instructions in performance-critical operations.\n",
      "To enable the following instructions: AVX2 AVX512F AVX512_VNNI FMA, in other operations, rebuild TensorFlow with the appropriate compiler flags.\n",
      "No model was supplied, defaulted to distilbert/distilbert-base-uncased-finetuned-sst-2-english and revision af0f99b (https://huggingface.co/distilbert/distilbert-base-uncased-finetuned-sst-2-english).\n",
      "Using a pipeline without specifying a model name and revision in production is not recommended.\n"
     ]
    },
    {
     "data": {
      "application/vnd.jupyter.widget-view+json": {
       "model_id": "02951d19c9ca4e3fade819f9a2c64be6",
       "version_major": 2,
       "version_minor": 0
      },
      "text/plain": [
       "model.safetensors:   0%|          | 0.00/268M [00:00<?, ?B/s]"
      ]
     },
     "metadata": {},
     "output_type": "display_data"
    },
    {
     "data": {
      "application/vnd.jupyter.widget-view+json": {
       "model_id": "da971cf1f75240518ae8da5479650eae",
       "version_major": 2,
       "version_minor": 0
      },
      "text/plain": [
       "tokenizer_config.json:   0%|          | 0.00/48.0 [00:00<?, ?B/s]"
      ]
     },
     "metadata": {},
     "output_type": "display_data"
    },
    {
     "data": {
      "application/vnd.jupyter.widget-view+json": {
       "model_id": "d837bc32bd5042deb6cf322ef4b4d182",
       "version_major": 2,
       "version_minor": 0
      },
      "text/plain": [
       "vocab.txt:   0%|          | 0.00/232k [00:00<?, ?B/s]"
      ]
     },
     "metadata": {},
     "output_type": "display_data"
    },
    {
     "name": "stderr",
     "output_type": "stream",
     "text": [
      "/var/home/ujjain/.local/lib/python3.12/site-packages/transformers/tokenization_utils_base.py:1601: FutureWarning: `clean_up_tokenization_spaces` was not set. It will be set to `True` by default. This behavior will be depracted in transformers v4.45, and will be then set to `False` by default. For more details check this issue: https://github.com/huggingface/transformers/issues/31884\n",
      "  warnings.warn(\n"
     ]
    },
    {
     "name": "stdout",
     "output_type": "stream",
     "text": [
      "sentiment\n",
      " 1    1889\n",
      "-1     860\n",
      "Name: count, dtype: int64\n"
     ]
    }
   ],
   "source": [
    "import pandas as pd\n",
    "from transformers import pipeline\n",
    "\n",
    "# Load dataset (replace with your actual file path)\n",
    "df = pd.read_parquet(\"train-00000-of-00001-38cc4fa96c139e86.parquet\", engine=\"pyarrow\")\n",
    "\n",
    "# Load pre-trained sentiment analysis model (DistilBERT)\n",
    "classifier = pipeline(\"sentiment-analysis\")\n",
    "\n",
    "# Predict sentiment for each emoji description\n",
    "df[\"sentiment\"] = df[\"text\"].apply(lambda x: classifier(x)[0][\"label\"])\n",
    "\n",
    "# Convert labels to numeric values\n",
    "sentiment_map = {\"POSITIVE\": 1, \"NEGATIVE\": -1, \"NEUTRAL\": 0}\n",
    "df[\"sentiment\"] = df[\"sentiment\"].map(sentiment_map)\n",
    "\n",
    "# Show new sentiment distribution\n",
    "print(df[\"sentiment\"].value_counts())\n"
   ]
  },
  {
   "cell_type": "code",
   "execution_count": 2,
   "id": "6c19fed9-ec6b-44ea-90b0-b31135e3a8e3",
   "metadata": {},
   "outputs": [
    {
     "data": {
      "image/png": "[encoded data removed]",
      "text/plain": [
       "<Figure size 600x400 with 1 Axes>"
      ]
     },
     "metadata": {},
     "output_type": "display_data"
    },
    {
     "name": "stdout",
     "output_type": "stream",
     "text": [
      "Top 10 Positive Words: [('type', 268), ('for', 264), ('flag', 262), ('man', 202), ('woman', 189), ('with', 137), ('skin', 116), ('tone', 116), ('hand', 97), ('face', 80)]\n",
      "Top 10 Negative Words: [('type', 201), ('face', 112), ('man', 110), ('woman', 99), ('with', 83), ('worker', 51), ('person', 48), ('female', 47), ('male', 41), ('pointing', 38)]\n"
     ]
    },
    {
     "data": {
      "image/png": "[encoded data removed]",
      "text/plain": [
       "<Figure size 1200x500 with 2 Axes>"
      ]
     },
     "metadata": {},
     "output_type": "display_data"
    }
   ],
   "source": [
    "import pandas as pd\n",
    "import matplotlib.pyplot as plt\n",
    "from collections import Counter\n",
    "import re\n",
    "\n",
    "# Plot sentiment distribution\n",
    "plt.figure(figsize=(6, 4))\n",
    "df['sentiment'].value_counts().plot(kind='bar', color=['green', 'red'])\n",
    "plt.xlabel(\"Sentiment\")\n",
    "plt.ylabel(\"Count\")\n",
    "plt.title(\"Sentiment Distribution\")\n",
    "plt.xticks(rotation=0)\n",
    "plt.show()\n",
    "\n",
    "# Function to clean and tokenize text\n",
    "def preprocess_text(text):\n",
    "    text = re.sub(r'[^a-zA-Z\\s]', '', text)  # Remove punctuation & numbers\n",
    "    text = text.lower().split()  # Convert to lowercase and split\n",
    "    return text\n",
    "\n",
    "# Apply preprocessing\n",
    "df['tokens'] = df['text'].apply(preprocess_text)\n",
    "\n",
    "# Get words for positive and negative sentiments\n",
    "positive_words = [word for tokens in df[df['sentiment'] == 1]['tokens'] for word in tokens]\n",
    "negative_words = [word for tokens in df[df['sentiment'] == -1]['tokens'] for word in tokens]\n",
    "\n",
    "# Find most common words\n",
    "common_positive = Counter(positive_words).most_common(10)\n",
    "common_negative = Counter(negative_words).most_common(10)\n",
    "\n",
    "print(\"Top 10 Positive Words:\", common_positive)\n",
    "print(\"Top 10 Negative Words:\", common_negative)\n",
    "\n",
    "# Plot word frequency\n",
    "fig, ax = plt.subplots(1, 2, figsize=(12, 5))\n",
    "\n",
    "# Positive words\n",
    "words, counts = zip(*common_positive)\n",
    "ax[0].barh(words, counts, color='green')\n",
    "ax[0].set_title(\"Top 10 Positive Words\")\n",
    "ax[0].invert_yaxis()\n",
    "\n",
    "# Negative words\n",
    "words, counts = zip(*common_negative)\n",
    "ax[1].barh(words, counts, color='red')\n",
    "ax[1].set_title(\"Top 10 Negative Words\")\n",
    "ax[1].invert_yaxis()\n",
    "\n",
    "plt.show()\n"
   ]
  },
  {
   "cell_type": "code",
   "execution_count": 3,
   "id": "4e874afa-38b4-470b-8aa5-92194b451d67",
   "metadata": {},
   "outputs": [
    {
     "name": "stdout",
     "output_type": "stream",
     "text": [
      "\n",
      "🔹 Most Common Words in Positive Sentiments 🔹\n",
      "      Word  Count\n",
      "0     type    268\n",
      "1      for    264\n",
      "2     flag    262\n",
      "3      man    202\n",
      "4    woman    189\n",
      "5     with    137\n",
      "6     skin    116\n",
      "7     tone    116\n",
      "8     hand     97\n",
      "9     face     80\n",
      "10    male     79\n",
      "11  medium     78\n",
      "12  female     72\n",
      "13   light     58\n",
      "14       4     58\n",
      "15       1     54\n",
      "16       2     54\n",
      "17       5     54\n",
      "18       3     53\n",
      "19       6     49\n",
      "\n",
      "🔹 Most Common Words in Negative Sentiments 🔹\n",
      "        Word  Count\n",
      "0       type    201\n",
      "1       face    112\n",
      "2        man    110\n",
      "3      woman     99\n",
      "4       with     83\n",
      "5     worker     51\n",
      "6     person     48\n",
      "7     female     47\n",
      "8          6     44\n",
      "9          3     41\n",
      "10      male     41\n",
      "11         1     40\n",
      "12         2     40\n",
      "13         5     40\n",
      "14  pointing     38\n",
      "15         4     36\n",
      "16     white     32\n",
      "17     black     28\n",
      "18     index     25\n",
      "19      skin     24\n"
     ]
    }
   ],
   "source": [
    "# Filter positive and negative sentiments\n",
    "positive_texts = df[df['sentiment'] == 1]['text']\n",
    "negative_texts = df[df['sentiment'] == -1]['text']\n",
    "\n",
    "# Count most common words in positive and negative texts\n",
    "positive_words = Counter(\" \".join(positive_texts).split()).most_common(20)\n",
    "negative_words = Counter(\" \".join(negative_texts).split()).most_common(20)\n",
    "\n",
    "# Convert to DataFrame for better readability\n",
    "positive_df = pd.DataFrame(positive_words, columns=[\"Word\", \"Count\"])\n",
    "negative_df = pd.DataFrame(negative_words, columns=[\"Word\", \"Count\"])\n",
    "\n",
    "print(\"\\n🔹 Most Common Words in Positive Sentiments 🔹\")\n",
    "print(positive_df)\n",
    "\n",
    "print(\"\\n🔹 Most Common Words in Negative Sentiments 🔹\")\n",
    "print(negative_df)"
   ]
  },
  {
   "cell_type": "markdown",
   "id": "52df0ed7-16db-4ea6-8505-4faedcea6b66",
   "metadata": {},
   "source": [
    "# 📌 Key Observations\n",
    "\n",
    "1️⃣ Frequent Words are Related to Emoji Categories\n",
    "\n",
    "    Words like \"type,\" \"flag,\" \"man,\" \"woman,\" \"face,\" \"skin,\" \"tone\" appear in both positive and negative sentiments.\n",
    "    These words are likely descriptive rather than sentiment-driven.\n",
    "\n",
    "2️⃣ Numbers (1, 2, 3, 4, 5, 6) Appear Frequently\n",
    "\n",
    "    This suggests that emoji variations (e.g., skin tones, gender types) might be dominating the dataset.\n",
    "    These numbers likely refer to different types of emojis, not sentiment.\n",
    "\n",
    "3️⃣ Words with Possible Sentiment Impact\n",
    "\n",
    "    Positive Words: \"hand\", \"smiling\", \"light\" (potentially referring to emotions).\n",
    "    Negative Words: \"worker\", \"pointing\", \"black\", \"white\" (these may have contextual sentiment meanings)."
   ]
  },
  {
   "cell_type": "code",
   "execution_count": 6,
   "id": "6226fd49-5faa-4ab9-98b3-b0f562dafc63",
   "metadata": {},
   "outputs": [
    {
     "name": "stdout",
     "output_type": "stream",
     "text": [
      "                                               image  \\\n",
      "0  {'bytes': b'\\x89PNG\\r\\n\\x1a\\n\\x00\\x00\\x00\\rIHD...   \n",
      "1  {'bytes': b'\\x89PNG\\r\\n\\x1a\\n\\x00\\x00\\x00\\rIHD...   \n",
      "2  {'bytes': b'\\x89PNG\\r\\n\\x1a\\n\\x00\\x00\\x00\\rIHD...   \n",
      "3  {'bytes': b'\\x89PNG\\r\\n\\x1a\\n\\x00\\x00\\x00\\rIHD...   \n",
      "4  {'bytes': b'\\x89PNG\\r\\n\\x1a\\n\\x00\\x00\\x00\\rIHD...   \n",
      "\n",
      "                           text  sentiment                              tokens  \n",
      "0                 grinning face          1                    [grinning, face]  \n",
      "1  smiling face with open mouth          1  [smiling, face, with, open, mouth]  \n",
      "2                  winking face          1                     [winking, face]  \n",
      "3                    robot face          1                       [robot, face]  \n",
      "4              father christmas          1                 [father, christmas]  \n"
     ]
    }
   ],
   "source": [
    "print(df.head())\n"
   ]
  },
  {
   "cell_type": "code",
   "execution_count": 7,
   "id": "b83f7b33-82a5-4d98-bdab-35c041ea98cc",
   "metadata": {},
   "outputs": [
    {
     "name": "stdout",
     "output_type": "stream",
     "text": [
      "\n",
      "🔹 Most Common Bi-Grams in Positive Sentiments 🔹 [('flag for', 259), ('skin tone', 116), ('light skin', 53), ('face with', 37), ('dark skin', 37), ('medium light', 27), ('medium skin', 26), ('medium dark', 23), ('biking type', 20), ('hand type', 20)]\n",
      "\n",
      "🔹 Most Common Bi-Grams in Negative Sentiments 🔹 [('worker type', 39), ('skin tone', 24), ('pointing backhand', 24), ('backhand index', 24), ('face with', 20), ('dark skin', 19), ('face massage', 18), ('doing cartwheel', 18), ('person with', 18), ('construction worker', 18)]\n"
     ]
    }
   ],
   "source": [
    "from collections import Counter\n",
    "from nltk import ngrams\n",
    "\n",
    "# Function to generate bi-grams\n",
    "def get_ngrams(text_list, n=2):\n",
    "    return [\" \".join(gram) for text in text_list for gram in ngrams(text, n)]\n",
    "\n",
    "# Get bigrams for positive and negative sentiments\n",
    "positive_bigrams = Counter(get_ngrams(df[df[\"sentiment\"] == 1][\"tokens\"], 2)).most_common(10)\n",
    "negative_bigrams = Counter(get_ngrams(df[df[\"sentiment\"] == -1][\"tokens\"], 2)).most_common(10)\n",
    "\n",
    "print(\"\\n🔹 Most Common Bi-Grams in Positive Sentiments 🔹\", positive_bigrams)\n",
    "print(\"\\n🔹 Most Common Bi-Grams in Negative Sentiments 🔹\", negative_bigrams)\n"
   ]
  },
  {
   "cell_type": "markdown",
   "id": "f6173a03-64ef-4465-83b4-7c2d6b567a38",
   "metadata": {},
   "source": [
    "# ✅ Check Sentiment of Specific Emoji Groups\n",
    "\n",
    "    Split emojis into categories (faces, objects, animals, symbols) and analyze sentiment within each group.\n",
    "    Example: \"face emojis\" may have more sentiment impact than \"flag emojis\". \n"
   ]
  },
  {
   "cell_type": "code",
   "execution_count": null,
   "id": "c5047924-8a71-4f28-aee6-0e4898a0a7cb",
   "metadata": {},
   "outputs": [],
   "source": []
  }
 ],
 "metadata": {
  "kernelspec": {
   "display_name": "Python 3 (ipykernel)",
   "language": "python",
   "name": "python3"
  },
  "language_info": {
   "codemirror_mode": {
    "name": "ipython",
    "version": 3
   },
   "file_extension": ".py",
   "mimetype": "text/x-python",
   "name": "python",
   "nbconvert_exporter": "python",
   "pygments_lexer": "ipython3",
   "version": "3.12.7"
  }
 },
 "nbformat": 4,
 "nbformat_minor": 5
}
