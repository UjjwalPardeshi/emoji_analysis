{
 "cells": [
  {
   "cell_type": "markdown",
   "id": "68582a04-2341-4e62-a99e-c11baac3bbfb",
   "metadata": {},
   "source": [
    "# pipeline for emoji analysis using only emoji embeddings "
   ]
  },
  {
   "cell_type": "code",
   "execution_count": 2,
   "id": "2b5554f4-9709-4693-9065-b670e8631f8d",
   "metadata": {},
   "outputs": [],
   "source": [
    "import gensim\n",
    "import numpy as np\n",
    "import pickle\n",
    "import emoji\n",
    "\n",
    "# Load trained RandomForestRegressor model\n",
    "with open(\"model/emoji_sentiment_RFR_300d.pkl\", \"rb\") as f:\n",
    "    model = pickle.load(f)\n",
    "\n",
    "# Load Emoji2Vec model\n",
    "emoji2vec_path = \"emoji2vec/pre-trained/emoji2vec.bin\"  # Change to your actual path\n",
    "emoji_model = gensim.models.KeyedVectors.load_word2vec_format(emoji2vec_path, binary=True)\n"
   ]
  },
  {
   "cell_type": "code",
   "execution_count": 3,
   "id": "07a97042-6b9b-40d5-9e7c-24c5de8fb16b",
   "metadata": {},
   "outputs": [],
   "source": [
    "def extract_emojis(text):\n",
    "    \"\"\"Extract all emojis from text\"\"\"\n",
    "    return ''.join(c for c in text if c in emoji.EMOJI_DATA)\n",
    "\n",
    "def get_emoji_embedding(emoji_char):\n",
    "    \"\"\"Extract embedding for a given emoji\"\"\"\n",
    "    try:\n",
    "        return emoji_model[emoji_char]\n",
    "    except KeyError:\n",
    "        return np.zeros(300)  # Return zero vector if emoji not found\n"
   ]
  },
  {
   "cell_type": "code",
   "execution_count": 4,
   "id": "241d7767-8b48-4aea-acb6-2b0c5db26244",
   "metadata": {},
   "outputs": [],
   "source": [
    "def predict_sentiment(user_input):\n",
    "    \"\"\"Predict sentiment score based on user input containing only emojis\"\"\"\n",
    "    \n",
    "    # Extract emojis from input\n",
    "    extracted_emojis = extract_emojis(user_input)\n",
    "    \n",
    "    # Handle case when no emoji is found\n",
    "    if not extracted_emojis:\n",
    "        return \"No emojis detected! Please enter a sentence with emojis.\"\n",
    "\n",
    "    # Get emoji embeddings\n",
    "    emoji_embeddings = np.mean([get_emoji_embedding(e) for e in extracted_emojis], axis=0)\n",
    "\n",
    "    # Reshape for model input\n",
    "    emoji_features = emoji_embeddings.reshape(1, -1)\n",
    "\n",
    "    # Predict sentiment score\n",
    "    predicted_score = model.predict(emoji_features)[0]\n",
    "\n",
    "    return predicted_score\n"
   ]
  },
  {
   "cell_type": "code",
   "execution_count": 5,
   "id": "8426ea0f-aee7-4e4c-b094-444b499df6a1",
   "metadata": {},
   "outputs": [
    {
     "name": "stdout",
     "output_type": "stream",
     "text": [
      "Sentiment Score for 'I love this! ❤️': 0.5938494807907613\n",
      "Sentiment Score for 'I'm so sad... 💔': 0.26083333333333336\n",
      "Sentiment Score for 'What a weird day 🤖🧐': 0.5313840330116019\n",
      "Sentiment Score for ' 🥹': 0.5938494807907613\n"
     ]
    }
   ],
   "source": [
    "# Example inputs\n",
    "user_text1 = \"I love this! ❤️\"  # Positive sentiment\n",
    "user_text2 = \"I'm so sad... 💔\"  # Negative sentiment\n",
    "user_text3 = \"What a weird day 🤖🧐\"  # Neutral sentiment\n",
    "user_text4 = \" 🥹\"  # No emojis\n",
    "\n",
    "# Predict sentiment scores\n",
    "print(f\"Sentiment Score for '{user_text1}': {predict_sentiment(user_text1)}\")\n",
    "print(f\"Sentiment Score for '{user_text2}': {predict_sentiment(user_text2)}\")\n",
    "print(f\"Sentiment Score for '{user_text3}': {predict_sentiment(user_text3)}\")\n",
    "print(f\"Sentiment Score for '{user_text4}': {predict_sentiment(user_text4)}\")\n"
   ]
  },
  {
   "cell_type": "code",
   "execution_count": null,
   "id": "8f06da3c-227f-483c-bf08-916d1048ed0b",
   "metadata": {},
   "outputs": [],
   "source": []
  },
  {
   "cell_type": "markdown",
   "id": "0557fdc1-456f-40e3-a3ae-e3c2b771da78",
   "metadata": {},
   "source": [
    "# pipeline for emoji analysis using only emoji embeddings as well as text embeddings"
   ]
  },
  {
   "cell_type": "code",
   "execution_count": 6,
   "id": "6cd8cd48-83b8-4126-9ddd-fab24fb9d461",
   "metadata": {},
   "outputs": [
    {
     "name": "stderr",
     "output_type": "stream",
     "text": [
      "/var/home/ujjain/.local/lib/python3.12/site-packages/transformers/tokenization_utils_base.py:1601: FutureWarning: `clean_up_tokenization_spaces` was not set. It will be set to `True` by default. This behavior will be depracted in transformers v4.45, and will be then set to `False` by default. For more details check this issue: https://github.com/huggingface/transformers/issues/31884\n",
      "  warnings.warn(\n"
     ]
    }
   ],
   "source": [
    "import re\n",
    "import gensim\n",
    "import numpy as np\n",
    "import pickle\n",
    "import emoji\n",
    "import torch\n",
    "from transformers import BertTokenizer, BertModel\n",
    "\n",
    "# Load trained RandomForestRegressor model (expects 1068 features)\n",
    "with open(\"model/emoji_sentiment_RFR.pkl\", \"rb\") as f:\n",
    "    model = pickle.load(f)\n",
    "\n",
    "# Load Emoji2Vec model\n",
    "emoji2vec_path = \"emoji2vec/pre-trained/emoji2vec.bin\"  # Change to your actual path\n",
    "emoji_model = gensim.models.KeyedVectors.load_word2vec_format(emoji2vec_path, binary=True)\n",
    "\n",
    "# Load BERT model for text embeddings\n",
    "bert_model_name = \"bert-base-uncased\"\n",
    "tokenizer = BertTokenizer.from_pretrained(bert_model_name)\n",
    "bert_model = BertModel.from_pretrained(bert_model_name)\n"
   ]
  },
  {
   "cell_type": "code",
   "execution_count": 7,
   "id": "3d959d1b-cb95-4426-bb95-c48adf31eb0c",
   "metadata": {},
   "outputs": [],
   "source": [
    "def extract_emojis(text):\n",
    "    \"\"\"Extract all emojis from text\"\"\"\n",
    "    return ''.join(c for c in text if c in emoji.EMOJI_DATA)\n",
    "\n",
    "def remove_emojis(text):\n",
    "    \"\"\"Remove emojis from text to extract pure words\"\"\"\n",
    "    return emoji.replace_emoji(text, replace='')\n",
    "\n",
    "def get_emoji_embedding(emoji_char):\n",
    "    \"\"\"Extract embedding for a given emoji\"\"\"\n",
    "    try:\n",
    "        return emoji_model[emoji_char]\n",
    "    except KeyError:\n",
    "        return np.zeros(300)  # Return zero vector if emoji not found\n",
    "\n",
    "def get_text_embedding(text):\n",
    "    \"\"\"Get BERT embedding for text description\"\"\"\n",
    "    tokens = tokenizer(text, return_tensors=\"pt\", padding=True, truncation=True, max_length=10)\n",
    "    with torch.no_grad():\n",
    "        output = bert_model(**tokens)\n",
    "    return output.last_hidden_state.mean(dim=1).squeeze().numpy()  # Mean pooled embedding\n"
   ]
  },
  {
   "cell_type": "code",
   "execution_count": 8,
   "id": "2cde1669-9a34-4a67-8a22-52f48fcacd29",
   "metadata": {},
   "outputs": [],
   "source": [
    "def predict_sentiment(user_input):\n",
    "    \"\"\"Predict sentiment score based on user input containing text and emojis\"\"\"\n",
    "    \n",
    "    # Extract emojis and text separately\n",
    "    extracted_emojis = extract_emojis(user_input)\n",
    "    cleaned_text = remove_emojis(user_input)\n",
    "\n",
    "    # Get embeddings\n",
    "    emoji_embeddings = np.zeros(300)  # Default to zero vector\n",
    "    if extracted_emojis:\n",
    "        emoji_embeddings = np.mean([get_emoji_embedding(e) for e in extracted_emojis], axis=0)\n",
    "\n",
    "    text_embedding = get_text_embedding(cleaned_text)\n",
    "\n",
    "    # Combine features (Emoji2Vec + BERT) to match model input (1068-d)\n",
    "    combined_features = np.hstack((emoji_embeddings, text_embedding)).reshape(1, -1)\n",
    "\n",
    "    # Predict sentiment score\n",
    "    predicted_score = model.predict(combined_features)[0]\n",
    "\n",
    "    return predicted_score\n"
   ]
  },
  {
   "cell_type": "code",
   "execution_count": 9,
   "id": "bfc44d9a-5573-46f0-a2a6-cba531b01846",
   "metadata": {},
   "outputs": [
    {
     "name": "stdout",
     "output_type": "stream",
     "text": [
      "Sentiment Score for 'I love this! ❤️': 0.5353125\n",
      "Sentiment Score for 'I'm so sad... 😢': 0.5675\n",
      "Sentiment Score for 'What a weird day 🤖🧐': 0.51\n"
     ]
    }
   ],
   "source": [
    "# Example inputs\n",
    "user_text1 = \"I love this! ❤️\"  # Positive sentiment\n",
    "user_text2 = \"I'm so sad... 😢\"  # Negative sentiment\n",
    "user_text3 = \"What a weird day 🤖🧐\"  # Neutral sentiment\n",
    "\n",
    "# Predict sentiment scores\n",
    "print(f\"Sentiment Score for '{user_text1}': {predict_sentiment(user_text1)}\")\n",
    "print(f\"Sentiment Score for '{user_text2}': {predict_sentiment(user_text2)}\")\n",
    "print(f\"Sentiment Score for '{user_text3}': {predict_sentiment(user_text3)}\")\n"
   ]
  },
  {
   "cell_type": "code",
   "execution_count": null,
   "id": "63fb08b2-f4cc-40c7-8087-9b3d040c88a2",
   "metadata": {},
   "outputs": [],
   "source": []
  }
 ],
 "metadata": {
  "kernelspec": {
   "display_name": "Python 3 (ipykernel)",
   "language": "python",
   "name": "python3"
  },
  "language_info": {
   "codemirror_mode": {
    "name": "ipython",
    "version": 3
   },
   "file_extension": ".py",
   "mimetype": "text/x-python",
   "name": "python",
   "nbconvert_exporter": "python",
   "pygments_lexer": "ipython3",
   "version": "3.12.7"
  }
 },
 "nbformat": 4,
 "nbformat_minor": 5
}
