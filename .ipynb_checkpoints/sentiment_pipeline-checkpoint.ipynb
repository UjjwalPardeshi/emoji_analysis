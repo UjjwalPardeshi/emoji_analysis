{
 "cells": [
  {
   "cell_type": "markdown",
   "id": "68582a04-2341-4e62-a99e-c11baac3bbfb",
   "metadata": {},
   "source": [
    "# pipeline for emoji analysis using only emoji embeddings "
   ]
  },
  {
   "cell_type": "code",
   "execution_count": 23,
   "id": "2b5554f4-9709-4693-9065-b670e8631f8d",
   "metadata": {},
   "outputs": [],
   "source": [
    "import gensim\n",
    "import numpy as np\n",
    "import pickle\n",
    "import emoji\n",
    "\n",
    "# Load trained RandomForestRegressor model\n",
    "with open(\"model/emoji_sentiment_LGBM.pkl\", \"rb\") as f:\n",
    "    model = pickle.load(f)\n",
    "\n",
    "# Load Emoji2Vec model\n",
    "emoji2vec_path = \"emoji2vec/pre-trained/emoji2vec.bin\"  # Change to your actual path\n",
    "emoji_model = gensim.models.KeyedVectors.load_word2vec_format(emoji2vec_path, binary=True)\n"
   ]
  },
  {
   "cell_type": "code",
   "execution_count": 24,
   "id": "07a97042-6b9b-40d5-9e7c-24c5de8fb16b",
   "metadata": {},
   "outputs": [],
   "source": [
    "def extract_emojis(text):\n",
    "    \"\"\"Extract all emojis from text\"\"\"\n",
    "    return ''.join(c for c in text if c in emoji.EMOJI_DATA)\n",
    "\n",
    "def get_emoji_embedding(emoji_char):\n",
    "    \"\"\"Extract embedding for a given emoji\"\"\"\n",
    "    try:\n",
    "        return emoji_model[emoji_char]\n",
    "    except KeyError:\n",
    "        return np.zeros(300)  # Return zero vector if emoji not found\n"
   ]
  },
  {
   "cell_type": "code",
   "execution_count": 25,
   "id": "241d7767-8b48-4aea-acb6-2b0c5db26244",
   "metadata": {},
   "outputs": [],
   "source": [
    "def predict_sentiment(user_input):\n",
    "    \"\"\"Predict sentiment score based on user input containing only emojis\"\"\"\n",
    "    \n",
    "    # Extract emojis from input\n",
    "    extracted_emojis = extract_emojis(user_input)\n",
    "    \n",
    "    # Handle case when no emoji is found\n",
    "    if not extracted_emojis:\n",
    "        return \"No emojis detected! Please enter a sentence with emojis.\"\n",
    "\n",
    "    # Get emoji embeddings\n",
    "    emoji_embeddings = np.mean([get_emoji_embedding(e) for e in extracted_emojis], axis=0)\n",
    "\n",
    "    # Reshape for model input\n",
    "    emoji_features = emoji_embeddings.reshape(1, -1)\n",
    "\n",
    "    # Predict sentiment score\n",
    "    predicted_score = model.predict(emoji_features)[0]\n",
    "\n",
    "    return predicted_score\n"
   ]
  },
  {
   "cell_type": "code",
   "execution_count": 27,
   "id": "8426ea0f-aee7-4e4c-b094-444b499df6a1",
   "metadata": {},
   "outputs": [
    {
     "name": "stdout",
     "output_type": "stream",
     "text": [
      "Sentiment Score for 'I love this! ❤️': 0.5946597148164596\n",
      "Sentiment Score for 'I'm so sad... 💔': 0.09371549747950185\n",
      "Sentiment Score for 'What a weird day 🤖🧐': 0.5758505565267965\n",
      "Sentiment Score for ' dafv': No emojis detected! Please enter a sentence with emojis.\n"
     ]
    }
   ],
   "source": [
    "# Example inputs\n",
    "user_text1 = \"I love this! ❤️\"  # Positive sentiment\n",
    "user_text2 = \"I'm so sad... 💔\"  # Negative sentiment\n",
    "user_text3 = \"What a weird day 🤖🧐\"  # Neutral sentiment\n",
    "user_text4 = \" dafv\"  # No emojis\n",
    "\n",
    "# Predict sentiment scores\n",
    "print(f\"Sentiment Score for '{user_text1}': {predict_sentiment(user_text1)}\")\n",
    "print(f\"Sentiment Score for '{user_text2}': {predict_sentiment(user_text2)}\")\n",
    "print(f\"Sentiment Score for '{user_text3}': {predict_sentiment(user_text3)}\")\n",
    "print(f\"Sentiment Score for '{user_text4}': {predict_sentiment(user_text4)}\")\n"
   ]
  },
  {
   "cell_type": "code",
   "execution_count": 32,
   "id": "8f06da3c-227f-483c-bf08-916d1048ed0b",
   "metadata": {},
   "outputs": [
    {
     "name": "stdout",
     "output_type": "stream",
     "text": [
      "Sentiment Score for ❤️: 0.766419100031869\n",
      "Sentiment Score for 😢: 0.13798656724098868\n",
      "Sentiment Score for 🤖: 0.5051691668260989\n"
     ]
    }
   ],
   "source": [
    "# Load the saved ensemble models\n",
    "with open(\"model/emoji_sentiment_ensemble.pkl\", \"rb\") as f:\n",
    "    rf_model, lgbm_model, xgb_model = pickle.load(f)\n",
    "\n",
    "def predict_emoji_sentiment(emoji_char):\n",
    "    \"\"\"Predict sentiment score for an emoji using ensemble learning\"\"\"\n",
    "    emoji_embedding = get_emoji_embedding(emoji_char).reshape(1, -1)\n",
    "    \n",
    "    # Get predictions\n",
    "    pred_rf = rf_model.predict(emoji_embedding)\n",
    "    pred_lgbm = lgbm_model.predict(emoji_embedding)\n",
    "    pred_xgb = xgb_model.predict(emoji_embedding)\n",
    "\n",
    "    # Compute final sentiment score\n",
    "    final_score = (0.5 * pred_rf) + (0.3 * pred_lgbm) + (0.2 * pred_xgb)\n",
    "    return final_score[0]\n",
    "\n",
    "# Example Predictions\n",
    "print(f\"Sentiment Score for ❤️: {predict_emoji_sentiment('❤️')}\")\n",
    "print(f\"Sentiment Score for 😢: {predict_emoji_sentiment('😢')}\")\n",
    "print(f\"Sentiment Score for 🤖: {predict_emoji_sentiment('🤖')}\")\n"
   ]
  },
  {
   "cell_type": "markdown",
   "id": "0557fdc1-456f-40e3-a3ae-e3c2b771da78",
   "metadata": {},
   "source": [
    "# pipeline for emoji analysis using only emoji embeddings as well as text embeddings"
   ]
  },
  {
   "cell_type": "code",
   "execution_count": 28,
   "id": "6cd8cd48-83b8-4126-9ddd-fab24fb9d461",
   "metadata": {},
   "outputs": [
    {
     "name": "stderr",
     "output_type": "stream",
     "text": [
      "/var/home/ujjain/.local/lib/python3.12/site-packages/transformers/tokenization_utils_base.py:1601: FutureWarning: `clean_up_tokenization_spaces` was not set. It will be set to `True` by default. This behavior will be depracted in transformers v4.45, and will be then set to `False` by default. For more details check this issue: https://github.com/huggingface/transformers/issues/31884\n",
      "  warnings.warn(\n"
     ]
    }
   ],
   "source": [
    "import re\n",
    "import gensim\n",
    "import numpy as np\n",
    "import pickle\n",
    "import emoji\n",
    "import torch\n",
    "from transformers import BertTokenizer, BertModel\n",
    "\n",
    "# Load trained RandomForestRegressor model (expects 1068 features)\n",
    "with open(\"model/emoji_sentiment_RFR.pkl\", \"rb\") as f:\n",
    "    model = pickle.load(f)\n",
    "\n",
    "# Load Emoji2Vec model\n",
    "emoji2vec_path = \"emoji2vec/pre-trained/emoji2vec.bin\"  # Change to your actual path\n",
    "emoji_model = gensim.models.KeyedVectors.load_word2vec_format(emoji2vec_path, binary=True)\n",
    "\n",
    "# Load BERT model for text embeddings\n",
    "bert_model_name = \"bert-base-uncased\"\n",
    "tokenizer = BertTokenizer.from_pretrained(bert_model_name)\n",
    "bert_model = BertModel.from_pretrained(bert_model_name)\n"
   ]
  },
  {
   "cell_type": "code",
   "execution_count": 29,
   "id": "3d959d1b-cb95-4426-bb95-c48adf31eb0c",
   "metadata": {},
   "outputs": [],
   "source": [
    "def extract_emojis(text):\n",
    "    \"\"\"Extract all emojis from text\"\"\"\n",
    "    return ''.join(c for c in text if c in emoji.EMOJI_DATA)\n",
    "\n",
    "def remove_emojis(text):\n",
    "    \"\"\"Remove emojis from text to extract pure words\"\"\"\n",
    "    return emoji.replace_emoji(text, replace='')\n",
    "\n",
    "def get_emoji_embedding(emoji_char):\n",
    "    \"\"\"Extract embedding for a given emoji\"\"\"\n",
    "    try:\n",
    "        return emoji_model[emoji_char]\n",
    "    except KeyError:\n",
    "        return np.zeros(300)  # Return zero vector if emoji not found\n",
    "\n",
    "def get_text_embedding(text):\n",
    "    \"\"\"Get BERT embedding for text description\"\"\"\n",
    "    tokens = tokenizer(text, return_tensors=\"pt\", padding=True, truncation=True, max_length=10)\n",
    "    with torch.no_grad():\n",
    "        output = bert_model(**tokens)\n",
    "    return output.last_hidden_state.mean(dim=1).squeeze().numpy()  # Mean pooled embedding\n"
   ]
  },
  {
   "cell_type": "code",
   "execution_count": 30,
   "id": "2cde1669-9a34-4a67-8a22-52f48fcacd29",
   "metadata": {},
   "outputs": [],
   "source": [
    "def predict_sentiment(user_input):\n",
    "    \"\"\"Predict sentiment score based on user input containing text and emojis\"\"\"\n",
    "    \n",
    "    # Extract emojis and text separately\n",
    "    extracted_emojis = extract_emojis(user_input)\n",
    "    cleaned_text = remove_emojis(user_input)\n",
    "\n",
    "    # Get embeddings\n",
    "    emoji_embeddings = np.zeros(300)  # Default to zero vector\n",
    "    if extracted_emojis:\n",
    "        emoji_embeddings = np.mean([get_emoji_embedding(e) for e in extracted_emojis], axis=0)\n",
    "\n",
    "    text_embedding = get_text_embedding(cleaned_text)\n",
    "\n",
    "    # Combine features (Emoji2Vec + BERT) to match model input (1068-d)\n",
    "    combined_features = np.hstack((emoji_embeddings, text_embedding)).reshape(1, -1)\n",
    "\n",
    "    # Predict sentiment score\n",
    "    predicted_score = model.predict(combined_features)[0]\n",
    "\n",
    "    return predicted_score\n"
   ]
  },
  {
   "cell_type": "code",
   "execution_count": 31,
   "id": "bfc44d9a-5573-46f0-a2a6-cba531b01846",
   "metadata": {},
   "outputs": [
    {
     "name": "stdout",
     "output_type": "stream",
     "text": [
      "Sentiment Score for 'I love this! ❤️': 0.5353125\n",
      "Sentiment Score for 'I'm so sad... 😢': 0.5675\n",
      "Sentiment Score for 'What a weird day 🤖🧐': 0.51\n"
     ]
    }
   ],
   "source": [
    "# Example inputs\n",
    "user_text1 = \"I love this! ❤️\"  # Positive sentiment\n",
    "user_text2 = \"I'm so sad... 😢\"  # Negative sentiment\n",
    "user_text3 = \"What a weird day 🤖🧐\"  # Neutral sentiment\n",
    "\n",
    "# Predict sentiment scores\n",
    "print(f\"Sentiment Score for '{user_text1}': {predict_sentiment(user_text1)}\")\n",
    "print(f\"Sentiment Score for '{user_text2}': {predict_sentiment(user_text2)}\")\n",
    "print(f\"Sentiment Score for '{user_text3}': {predict_sentiment(user_text3)}\")\n"
   ]
  },
  {
   "cell_type": "code",
   "execution_count": null,
   "id": "63fb08b2-f4cc-40c7-8087-9b3d040c88a2",
   "metadata": {},
   "outputs": [],
   "source": []
  },
  {
   "cell_type": "markdown",
   "id": "d483f80b-66fd-46ff-95c4-1d531f3c8829",
   "metadata": {},
   "source": [
    "# ensemble model nn, rf, xgb \n",
    " "
   ]
  },
  {
   "cell_type": "code",
   "execution_count": 1,
   "id": "dcb6c594-ad6e-4e2c-9ee3-7f9a11055055",
   "metadata": {},
   "outputs": [
    {
     "ename": "JSONDecodeError",
     "evalue": "Expecting value: line 1 column 1 (char 0)",
     "output_type": "error",
     "traceback": [
      "\u001b[0;31m---------------------------------------------------------------------------\u001b[0m",
      "\u001b[0;31mJSONDecodeError\u001b[0m                           Traceback (most recent call last)",
      "File \u001b[0;32m~/.local/lib/python3.12/site-packages/requests/models.py:974\u001b[0m, in \u001b[0;36mResponse.json\u001b[0;34m(self, **kwargs)\u001b[0m\n\u001b[1;32m    973\u001b[0m \u001b[38;5;28;01mtry\u001b[39;00m:\n\u001b[0;32m--> 974\u001b[0m     \u001b[38;5;28;01mreturn\u001b[39;00m \u001b[43mcomplexjson\u001b[49m\u001b[38;5;241;43m.\u001b[39;49m\u001b[43mloads\u001b[49m\u001b[43m(\u001b[49m\u001b[38;5;28;43mself\u001b[39;49m\u001b[38;5;241;43m.\u001b[39;49m\u001b[43mtext\u001b[49m\u001b[43m,\u001b[49m\u001b[43m \u001b[49m\u001b[38;5;241;43m*\u001b[39;49m\u001b[38;5;241;43m*\u001b[39;49m\u001b[43mkwargs\u001b[49m\u001b[43m)\u001b[49m\n\u001b[1;32m    975\u001b[0m \u001b[38;5;28;01mexcept\u001b[39;00m JSONDecodeError \u001b[38;5;28;01mas\u001b[39;00m e:\n\u001b[1;32m    976\u001b[0m     \u001b[38;5;66;03m# Catch JSON-related errors and raise as requests.JSONDecodeError\u001b[39;00m\n\u001b[1;32m    977\u001b[0m     \u001b[38;5;66;03m# This aliases json.JSONDecodeError and simplejson.JSONDecodeError\u001b[39;00m\n",
      "File \u001b[0;32m/usr/lib64/python3.12/json/__init__.py:346\u001b[0m, in \u001b[0;36mloads\u001b[0;34m(s, cls, object_hook, parse_float, parse_int, parse_constant, object_pairs_hook, **kw)\u001b[0m\n\u001b[1;32m    343\u001b[0m \u001b[38;5;28;01mif\u001b[39;00m (\u001b[38;5;28mcls\u001b[39m \u001b[38;5;129;01mis\u001b[39;00m \u001b[38;5;28;01mNone\u001b[39;00m \u001b[38;5;129;01mand\u001b[39;00m object_hook \u001b[38;5;129;01mis\u001b[39;00m \u001b[38;5;28;01mNone\u001b[39;00m \u001b[38;5;129;01mand\u001b[39;00m\n\u001b[1;32m    344\u001b[0m         parse_int \u001b[38;5;129;01mis\u001b[39;00m \u001b[38;5;28;01mNone\u001b[39;00m \u001b[38;5;129;01mand\u001b[39;00m parse_float \u001b[38;5;129;01mis\u001b[39;00m \u001b[38;5;28;01mNone\u001b[39;00m \u001b[38;5;129;01mand\u001b[39;00m\n\u001b[1;32m    345\u001b[0m         parse_constant \u001b[38;5;129;01mis\u001b[39;00m \u001b[38;5;28;01mNone\u001b[39;00m \u001b[38;5;129;01mand\u001b[39;00m object_pairs_hook \u001b[38;5;129;01mis\u001b[39;00m \u001b[38;5;28;01mNone\u001b[39;00m \u001b[38;5;129;01mand\u001b[39;00m \u001b[38;5;129;01mnot\u001b[39;00m kw):\n\u001b[0;32m--> 346\u001b[0m     \u001b[38;5;28;01mreturn\u001b[39;00m \u001b[43m_default_decoder\u001b[49m\u001b[38;5;241;43m.\u001b[39;49m\u001b[43mdecode\u001b[49m\u001b[43m(\u001b[49m\u001b[43ms\u001b[49m\u001b[43m)\u001b[49m\n\u001b[1;32m    347\u001b[0m \u001b[38;5;28;01mif\u001b[39;00m \u001b[38;5;28mcls\u001b[39m \u001b[38;5;129;01mis\u001b[39;00m \u001b[38;5;28;01mNone\u001b[39;00m:\n",
      "File \u001b[0;32m/usr/lib64/python3.12/json/decoder.py:337\u001b[0m, in \u001b[0;36mJSONDecoder.decode\u001b[0;34m(self, s, _w)\u001b[0m\n\u001b[1;32m    333\u001b[0m \u001b[38;5;250m\u001b[39m\u001b[38;5;124;03m\"\"\"Return the Python representation of ``s`` (a ``str`` instance\u001b[39;00m\n\u001b[1;32m    334\u001b[0m \u001b[38;5;124;03mcontaining a JSON document).\u001b[39;00m\n\u001b[1;32m    335\u001b[0m \n\u001b[1;32m    336\u001b[0m \u001b[38;5;124;03m\"\"\"\u001b[39;00m\n\u001b[0;32m--> 337\u001b[0m obj, end \u001b[38;5;241m=\u001b[39m \u001b[38;5;28;43mself\u001b[39;49m\u001b[38;5;241;43m.\u001b[39;49m\u001b[43mraw_decode\u001b[49m\u001b[43m(\u001b[49m\u001b[43ms\u001b[49m\u001b[43m,\u001b[49m\u001b[43m \u001b[49m\u001b[43midx\u001b[49m\u001b[38;5;241;43m=\u001b[39;49m\u001b[43m_w\u001b[49m\u001b[43m(\u001b[49m\u001b[43ms\u001b[49m\u001b[43m,\u001b[49m\u001b[43m \u001b[49m\u001b[38;5;241;43m0\u001b[39;49m\u001b[43m)\u001b[49m\u001b[38;5;241;43m.\u001b[39;49m\u001b[43mend\u001b[49m\u001b[43m(\u001b[49m\u001b[43m)\u001b[49m\u001b[43m)\u001b[49m\n\u001b[1;32m    338\u001b[0m end \u001b[38;5;241m=\u001b[39m _w(s, end)\u001b[38;5;241m.\u001b[39mend()\n",
      "File \u001b[0;32m/usr/lib64/python3.12/json/decoder.py:355\u001b[0m, in \u001b[0;36mJSONDecoder.raw_decode\u001b[0;34m(self, s, idx)\u001b[0m\n\u001b[1;32m    354\u001b[0m \u001b[38;5;28;01mexcept\u001b[39;00m \u001b[38;5;167;01mStopIteration\u001b[39;00m \u001b[38;5;28;01mas\u001b[39;00m err:\n\u001b[0;32m--> 355\u001b[0m     \u001b[38;5;28;01mraise\u001b[39;00m JSONDecodeError(\u001b[38;5;124m\"\u001b[39m\u001b[38;5;124mExpecting value\u001b[39m\u001b[38;5;124m\"\u001b[39m, s, err\u001b[38;5;241m.\u001b[39mvalue) \u001b[38;5;28;01mfrom\u001b[39;00m \u001b[38;5;28;01mNone\u001b[39;00m\n\u001b[1;32m    356\u001b[0m \u001b[38;5;28;01mreturn\u001b[39;00m obj, end\n",
      "\u001b[0;31mJSONDecodeError\u001b[0m: Expecting value: line 1 column 1 (char 0)",
      "\nDuring handling of the above exception, another exception occurred:\n",
      "\u001b[0;31mJSONDecodeError\u001b[0m                           Traceback (most recent call last)",
      "Cell \u001b[0;32mIn[1], line 6\u001b[0m\n\u001b[1;32m      4\u001b[0m params \u001b[38;5;241m=\u001b[39m {\u001b[38;5;124m\"\u001b[39m\u001b[38;5;124memoji\u001b[39m\u001b[38;5;124m\"\u001b[39m: \u001b[38;5;124m\"\u001b[39m\u001b[38;5;124m😂\u001b[39m\u001b[38;5;124m\"\u001b[39m}\n\u001b[1;32m      5\u001b[0m response \u001b[38;5;241m=\u001b[39m requests\u001b[38;5;241m.\u001b[39mget(url, params\u001b[38;5;241m=\u001b[39mparams)\n\u001b[0;32m----> 6\u001b[0m \u001b[38;5;28mprint\u001b[39m(\u001b[43mresponse\u001b[49m\u001b[38;5;241;43m.\u001b[39;49m\u001b[43mjson\u001b[49m\u001b[43m(\u001b[49m\u001b[43m)\u001b[49m)\n",
      "File \u001b[0;32m~/.local/lib/python3.12/site-packages/requests/models.py:978\u001b[0m, in \u001b[0;36mResponse.json\u001b[0;34m(self, **kwargs)\u001b[0m\n\u001b[1;32m    974\u001b[0m     \u001b[38;5;28;01mreturn\u001b[39;00m complexjson\u001b[38;5;241m.\u001b[39mloads(\u001b[38;5;28mself\u001b[39m\u001b[38;5;241m.\u001b[39mtext, \u001b[38;5;241m*\u001b[39m\u001b[38;5;241m*\u001b[39mkwargs)\n\u001b[1;32m    975\u001b[0m \u001b[38;5;28;01mexcept\u001b[39;00m JSONDecodeError \u001b[38;5;28;01mas\u001b[39;00m e:\n\u001b[1;32m    976\u001b[0m     \u001b[38;5;66;03m# Catch JSON-related errors and raise as requests.JSONDecodeError\u001b[39;00m\n\u001b[1;32m    977\u001b[0m     \u001b[38;5;66;03m# This aliases json.JSONDecodeError and simplejson.JSONDecodeError\u001b[39;00m\n\u001b[0;32m--> 978\u001b[0m     \u001b[38;5;28;01mraise\u001b[39;00m RequestsJSONDecodeError(e\u001b[38;5;241m.\u001b[39mmsg, e\u001b[38;5;241m.\u001b[39mdoc, e\u001b[38;5;241m.\u001b[39mpos)\n",
      "\u001b[0;31mJSONDecodeError\u001b[0m: Expecting value: line 1 column 1 (char 0)"
     ]
    }
   ],
   "source": [
    "import requests\n",
    "\n",
    "url = \"http://127.0.0.1:5000/predict\"\n",
    "params = {\"emoji\": \"😂\"}\n",
    "response = requests.get(url, params=params)\n",
    "print(response.json())\n"
   ]
  },
  {
   "cell_type": "code",
   "execution_count": null,
   "id": "0a387c81-c81e-4e2c-98e6-79a8f11f2668",
   "metadata": {},
   "outputs": [],
   "source": []
  }
 ],
 "metadata": {
  "kernelspec": {
   "display_name": "Python 3 (ipykernel)",
   "language": "python",
   "name": "python3"
  },
  "language_info": {
   "codemirror_mode": {
    "name": "ipython",
    "version": 3
   },
   "file_extension": ".py",
   "mimetype": "text/x-python",
   "name": "python",
   "nbconvert_exporter": "python",
   "pygments_lexer": "ipython3",
   "version": "3.12.7"
  }
 },
 "nbformat": 4,
 "nbformat_minor": 5
}
