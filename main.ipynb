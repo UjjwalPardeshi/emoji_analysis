{
 "cells": [
  {
   "cell_type": "code",
   "execution_count": 5,
   "id": "ba183ff8-5b96-4bca-b0d1-c6a4eceeb73d",
   "metadata": {},
   "outputs": [
    {
     "name": "stdout",
     "output_type": "stream",
     "text": [
      "                    description  score emoji\n",
      "0                 grinning face   1.00     😀\n",
      "1  smiling face with open mouth   1.00     😃\n",
      "2                  winking face   1.00     😉\n",
      "3                    robot face   0.50     🤖\n",
      "4              father christmas   0.75    🎅🏻\n"
     ]
    }
   ],
   "source": [
    "import pandas as pd\n",
    "import numpy as np\n",
    "# Load dataset from .parquet file\n",
    "df = pd.read_csv(\"dataset/final_data.csv\")\n",
    "\n",
    "# Display first few rows\n",
    "print(df.head())\n"
   ]
  },
  {
   "cell_type": "code",
   "execution_count": null,
   "id": "838df4f8-fa67-4f27-b487-3deddc9e5de9",
   "metadata": {},
   "outputs": [
    {
     "name": "stderr",
     "output_type": "stream",
     "text": [
      "/var/home/ujjain/.local/lib/python3.12/site-packages/transformers/tokenization_utils_base.py:1601: FutureWarning: `clean_up_tokenization_spaces` was not set. It will be set to `True` by default. This behavior will be depracted in transformers v4.45, and will be then set to `False` by default. For more details check this issue: https://github.com/huggingface/transformers/issues/31884\n",
      "  warnings.warn(\n"
     ]
    }
   ],
   "source": [
    "from transformers import BertTokenizer, BertModel\n",
    "import torch\n",
    "\n",
    "# Load BERT model and tokenizer\n",
    "tokenizer = BertTokenizer.from_pretrained(\"bert-base-uncased\")\n",
    "bert_model = BertModel.from_pretrained(\"bert-base-uncased\")\n",
    "\n",
    "# Function to get text embeddings\n",
    "def get_bert_embedding(text):\n",
    "    inputs = tokenizer(text, return_tensors=\"pt\", padding=True, truncation=True, max_length=50)\n",
    "    outputs = bert_model(**inputs)\n",
    "    return outputs.last_hidden_state[:, 0, :].detach().numpy().squeeze()  # Take only CLS token\n",
    "\n",
    "\n",
    "# Apply to dataset\n",
    "df[\"text_embedding\"] = df[\"description\"].apply(get_bert_embedding)\n"
   ]
  },
  {
   "cell_type": "code",
   "execution_count": null,
   "id": "8d5422f5-68ce-491b-a5ca-7668f8af062f",
   "metadata": {},
   "outputs": [],
   "source": [
    "from gensim.models import KeyedVectors\n",
    "\n",
    "# Load Emoji2Vec pre-trained embeddings\n",
    "emoji2vec_model = KeyedVectors.load_word2vec_format(\"emoji2vec/pre-trained/emoji2vec.bin\", binary=True)\n",
    "\n",
    "# Function to get emoji embeddings\n",
    "def get_emoji_embedding(emoji):\n",
    "    try:\n",
    "        return emoji2vec_model[emoji]\n",
    "    except KeyError:\n",
    "        return np.zeros((300,))  # 300D Zero vector if emoji not in vocab\n",
    "\n",
    "\n",
    "# Apply to dataset\n",
    "df[\"emoji_embedding\"] = df[\"emoji\"].apply(get_emoji_embedding)\n"
   ]
  },
  {
   "cell_type": "code",
   "execution_count": null,
   "id": "4199f753-2977-43bd-96c2-0075796933c6",
   "metadata": {},
   "outputs": [],
   "source": [
    "from sklearn.model_selection import train_test_split\n",
    "from sklearn.ensemble import RandomForestRegressor\n",
    "from sklearn.metrics import mean_squared_error\n",
    "\n",
    "# Convert embeddings to NumPy arrays\n",
    "X_text = np.stack(df[\"text_embedding\"].values)\n",
    "X_emoji = np.stack(df[\"emoji_embedding\"].values)\n",
    "\n",
    "# Concatenate text & emoji embeddings\n",
    "X = np.hstack((X_text, X_emoji))\n",
    "y = df[\"score\"].values\n",
    "\n",
    "# Train-test split\n",
    "X_train, X_test, y_train, y_test = train_test_split(X, y, test_size=0.2, random_state=42)\n",
    "\n",
    "# Train a regression model\n",
    "model = RandomForestRegressor(n_estimators=100)\n",
    "model.fit(X_train, y_train)\n",
    "\n",
    "# Evaluate performance\n",
    "y_pred = model.predict(X_test)\n",
    "mse = mean_squared_error(y_test, y_pred)\n",
    "print(f\"Mean Squared Error: {mse:.4f}\")\n"
   ]
  },
  {
   "cell_type": "code",
   "execution_count": null,
   "id": "3a5dd840-1dd2-4455-9433-5745861c39ec",
   "metadata": {},
   "outputs": [],
   "source": [
    "import pickle\n",
    "\n",
    "# Save the model\n",
    "with open(\"emoji_sentiment_RFR.pkl\", \"wb\") as f:\n",
    "    pickle.dump(model, f)\n",
    "\n",
    "print(\"Model saved successfully!\")\n"
   ]
  },
  {
   "cell_type": "markdown",
   "id": "99d39f44-3d6d-49c6-bdd4-1024f6ecc28e",
   "metadata": {},
   "source": [
    "# Hyperparameter Tuning for Sentiment Model "
   ]
  },
  {
   "cell_type": "code",
   "execution_count": null,
   "id": "c1c7a87c-2800-4bd9-b37f-b4945b33948e",
   "metadata": {},
   "outputs": [],
   "source": [
    "from sklearn.model_selection import GridSearchCV\n",
    "from sklearn.ensemble import RandomForestRegressor\n",
    "\n",
    "# Define hyperparameter grid\n",
    "param_grid = {\n",
    "    'n_estimators': [100, 200, 300],  \n",
    "    'max_depth': [None, 10, 20],  \n",
    "    'min_samples_split': [2, 5, 10],  \n",
    "    'min_samples_leaf': [1, 2, 4]\n",
    "}\n"
   ]
  },
  {
   "cell_type": "code",
   "execution_count": null,
   "id": "febfd6a3-ec92-466f-a7d3-460675ae26dc",
   "metadata": {},
   "outputs": [],
   "source": [
    "# Initialize the model\n",
    "rf = RandomForestRegressor(random_state=42)\n",
    "\n",
    "# Perform Grid Search\n",
    "grid_search = GridSearchCV(rf, param_grid, cv=5, scoring='neg_mean_squared_error', n_jobs=-1)\n",
    "grid_search.fit(X_train, y_train)\n",
    "\n",
    "# Best parameters\n",
    "print(\"Best Hyperparameters:\", grid_search.best_params_)\n",
    "\n",
    "# Get the best model\n",
    "best_rf = grid_search.best_estimator_\n",
    "\n",
    "# Evaluate on Test Set\n",
    "y_pred = best_rf.predict(X_test)\n",
    "mse = mean_squared_error(y_test, y_pred)\n",
    "print(\"New MSE after tuning:\", mse)\n"
   ]
  },
  {
   "cell_type": "code",
   "execution_count": null,
   "id": "4bc2d780-44ab-41d8-bae2-4a6cf451e08f",
   "metadata": {},
   "outputs": [],
   "source": []
  },
  {
   "cell_type": "code",
   "execution_count": null,
   "id": "8d63c1c0-1129-41d2-8bd4-401364f76f27",
   "metadata": {},
   "outputs": [],
   "source": []
  }
 ],
 "metadata": {
  "kernelspec": {
   "display_name": "Python 3 (ipykernel)",
   "language": "python",
   "name": "python3"
  },
  "language_info": {
   "codemirror_mode": {
    "name": "ipython",
    "version": 3
   },
   "file_extension": ".py",
   "mimetype": "text/x-python",
   "name": "python",
   "nbconvert_exporter": "python",
   "pygments_lexer": "ipython3",
   "version": "3.12.7"
  }
 },
 "nbformat": 4,
 "nbformat_minor": 5
}
