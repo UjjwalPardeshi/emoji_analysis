{
 "cells": [
  {
   "cell_type": "markdown",
   "id": "68582a04-2341-4e62-a99e-c11baac3bbfb",
   "metadata": {},
   "source": [
    "# pipeline for emoji analysis using only emoji embeddings "
   ]
  },
  {
   "cell_type": "code",
   "execution_count": 21,
   "id": "2b5554f4-9709-4693-9065-b670e8631f8d",
   "metadata": {},
   "outputs": [],
   "source": [
    "import gensim\n",
    "import numpy as np\n",
    "import pickle\n",
    "import emoji\n",
    "\n",
    "# Load trained RandomForestRegressor model\n",
    "with open(\"model/emoji_sentiment_LGBM.pkl\", \"rb\") as f:\n",
    "    model = pickle.load(f)\n",
    "\n",
    "# Load Emoji2Vec model\n",
    "emoji2vec_path = \"emoji2vec/pre-trained/emoji2vec.bin\"  # Change to your actual path\n",
    "emoji_model = gensim.models.KeyedVectors.load_word2vec_format(emoji2vec_path, binary=True)\n"
   ]
  },
  {
   "cell_type": "code",
   "execution_count": 22,
   "id": "07a97042-6b9b-40d5-9e7c-24c5de8fb16b",
   "metadata": {},
   "outputs": [],
   "source": [
    "def extract_emojis(text):\n",
    "    \"\"\"Extract all emojis from text\"\"\"\n",
    "    return ''.join(c for c in text if c in emoji.EMOJI_DATA)\n",
    "\n",
    "def get_emoji_embedding(emoji_char):\n",
    "    \"\"\"Extract embedding for a given emoji\"\"\"\n",
    "    try:\n",
    "        return emoji_model[emoji_char]\n",
    "    except KeyError:\n",
    "        return np.zeros(300)  # Return zero vector if emoji not found\n"
   ]
  },
  {
   "cell_type": "code",
   "execution_count": 23,
   "id": "241d7767-8b48-4aea-acb6-2b0c5db26244",
   "metadata": {},
   "outputs": [],
   "source": [
    "def predict_sentiment(user_input):\n",
    "    \"\"\"Predict sentiment score based on user input containing only emojis\"\"\"\n",
    "    \n",
    "    # Extract emojis from input\n",
    "    extracted_emojis = extract_emojis(user_input)\n",
    "    \n",
    "    # Handle case when no emoji is found\n",
    "    if not extracted_emojis:\n",
    "        return \"No emojis detected! Please enter a sentence with emojis.\"\n",
    "\n",
    "    # Get emoji embeddings\n",
    "    emoji_embeddings = np.mean([get_emoji_embedding(e) for e in extracted_emojis], axis=0)\n",
    "\n",
    "    # Reshape for model input\n",
    "    emoji_features = emoji_embeddings.reshape(1, -1)\n",
    "\n",
    "    # Predict sentiment score\n",
    "    predicted_score = model.predict(emoji_features)[0]\n",
    "\n",
    "    return predicted_score\n"
   ]
  },
  {
   "cell_type": "code",
   "execution_count": 24,
   "id": "8426ea0f-aee7-4e4c-b094-444b499df6a1",
   "metadata": {},
   "outputs": [
    {
     "name": "stdout",
     "output_type": "stream",
     "text": [
      "Sentiment Score for 'I love this! ❤️': 0.5946597148164596\n",
      "Sentiment Score for 'I'm so sad... 💔': 0.09371549747950185\n",
      "Sentiment Score for 'What a weird day 🤖🧐': 0.5758505565267965\n",
      "Sentiment Score for ' 🥹': 0.5946597148164596\n"
     ]
    }
   ],
   "source": [
    "# Example inputs\n",
    "user_text1 = \"I love this! ❤️\"  # Positive sentiment\n",
    "user_text2 = \"I'm so sad... 💔\"  # Negative sentiment\n",
    "user_text3 = \"What a weird day 🤖🧐\"  # Neutral sentiment\n",
    "user_text4 = \" 🥹\"  # No emojis\n",
    "\n",
    "# Predict sentiment scores\n",
    "print(f\"Sentiment Score for '{user_text1}': {predict_sentiment(user_text1)}\")\n",
    "print(f\"Sentiment Score for '{user_text2}': {predict_sentiment(user_text2)}\")\n",
    "print(f\"Sentiment Score for '{user_text3}': {predict_sentiment(user_text3)}\")\n",
    "print(f\"Sentiment Score for '{user_text4}': {predict_sentiment(user_text4)}\")\n"
   ]
  },
  {
   "cell_type": "code",
   "execution_count": 25,
   "id": "8f06da3c-227f-483c-bf08-916d1048ed0b",
   "metadata": {},
   "outputs": [
    {
     "name": "stdout",
     "output_type": "stream",
     "text": [
      "Sentiment Score for ❤️: 0.766419100031869\n",
      "Sentiment Score for 😢: 0.13798656724098868\n",
      "Sentiment Score for 🤖: 0.5051691668260989\n"
     ]
    }
   ],
   "source": [
    "# Load the saved ensemble models\n",
    "with open(\"emoji_sentiment_ensemble.pkl\", \"rb\") as f:\n",
    "    rf_model, lgbm_model, xgb_model = pickle.load(f)\n",
    "\n",
    "def predict_emoji_sentiment(emoji_char):\n",
    "    \"\"\"Predict sentiment score for an emoji using ensemble learning\"\"\"\n",
    "    emoji_embedding = get_emoji_embedding(emoji_char).reshape(1, -1)\n",
    "    \n",
    "    # Get predictions\n",
    "    pred_rf = rf_model.predict(emoji_embedding)\n",
    "    pred_lgbm = lgbm_model.predict(emoji_embedding)\n",
    "    pred_xgb = xgb_model.predict(emoji_embedding)\n",
    "\n",
    "    # Compute final sentiment score\n",
    "    final_score = (0.5 * pred_rf) + (0.3 * pred_lgbm) + (0.2 * pred_xgb)\n",
    "    return final_score[0]\n",
    "\n",
    "# Example Predictions\n",
    "print(f\"Sentiment Score for ❤️: {predict_emoji_sentiment('❤️')}\")\n",
    "print(f\"Sentiment Score for 😢: {predict_emoji_sentiment('😢')}\")\n",
    "print(f\"Sentiment Score for 🤖: {predict_emoji_sentiment('🤖')}\")\n"
   ]
  },
  {
   "cell_type": "markdown",
   "id": "0557fdc1-456f-40e3-a3ae-e3c2b771da78",
   "metadata": {},
   "source": [
    "# pipeline for emoji analysis using only emoji embeddings as well as text embeddings"
   ]
  },
  {
   "cell_type": "code",
   "execution_count": 2,
   "id": "6cd8cd48-83b8-4126-9ddd-fab24fb9d461",
   "metadata": {},
   "outputs": [
    {
     "ename": "FileNotFoundError",
     "evalue": "[Errno 2] No such file or directory: 'emoji_sentiment_RFR.pkl'",
     "output_type": "error",
     "traceback": [
      "\u001b[0;31m---------------------------------------------------------------------------\u001b[0m",
      "\u001b[0;31mFileNotFoundError\u001b[0m                         Traceback (most recent call last)",
      "Cell \u001b[0;32mIn[2], line 10\u001b[0m\n\u001b[1;32m      7\u001b[0m \u001b[38;5;28;01mfrom\u001b[39;00m \u001b[38;5;21;01mtransformers\u001b[39;00m \u001b[38;5;28;01mimport\u001b[39;00m BertTokenizer, BertModel\n\u001b[1;32m      9\u001b[0m \u001b[38;5;66;03m# Load trained RandomForestRegressor model (expects 1068 features)\u001b[39;00m\n\u001b[0;32m---> 10\u001b[0m \u001b[38;5;28;01mwith\u001b[39;00m \u001b[38;5;28;43mopen\u001b[39;49m\u001b[43m(\u001b[49m\u001b[38;5;124;43m\"\u001b[39;49m\u001b[38;5;124;43memoji_sentiment_RFR.pkl\u001b[39;49m\u001b[38;5;124;43m\"\u001b[39;49m\u001b[43m,\u001b[49m\u001b[43m \u001b[49m\u001b[38;5;124;43m\"\u001b[39;49m\u001b[38;5;124;43mrb\u001b[39;49m\u001b[38;5;124;43m\"\u001b[39;49m\u001b[43m)\u001b[49m \u001b[38;5;28;01mas\u001b[39;00m f:\n\u001b[1;32m     11\u001b[0m     model \u001b[38;5;241m=\u001b[39m pickle\u001b[38;5;241m.\u001b[39mload(f)\n\u001b[1;32m     13\u001b[0m \u001b[38;5;66;03m# Load Emoji2Vec model\u001b[39;00m\n",
      "File \u001b[0;32m~/.local/lib/python3.12/site-packages/IPython/core/interactiveshell.py:324\u001b[0m, in \u001b[0;36m_modified_open\u001b[0;34m(file, *args, **kwargs)\u001b[0m\n\u001b[1;32m    317\u001b[0m \u001b[38;5;28;01mif\u001b[39;00m file \u001b[38;5;129;01min\u001b[39;00m {\u001b[38;5;241m0\u001b[39m, \u001b[38;5;241m1\u001b[39m, \u001b[38;5;241m2\u001b[39m}:\n\u001b[1;32m    318\u001b[0m     \u001b[38;5;28;01mraise\u001b[39;00m \u001b[38;5;167;01mValueError\u001b[39;00m(\n\u001b[1;32m    319\u001b[0m         \u001b[38;5;124mf\u001b[39m\u001b[38;5;124m\"\u001b[39m\u001b[38;5;124mIPython won\u001b[39m\u001b[38;5;124m'\u001b[39m\u001b[38;5;124mt let you open fd=\u001b[39m\u001b[38;5;132;01m{\u001b[39;00mfile\u001b[38;5;132;01m}\u001b[39;00m\u001b[38;5;124m by default \u001b[39m\u001b[38;5;124m\"\u001b[39m\n\u001b[1;32m    320\u001b[0m         \u001b[38;5;124m\"\u001b[39m\u001b[38;5;124mas it is likely to crash IPython. If you know what you are doing, \u001b[39m\u001b[38;5;124m\"\u001b[39m\n\u001b[1;32m    321\u001b[0m         \u001b[38;5;124m\"\u001b[39m\u001b[38;5;124myou can use builtins\u001b[39m\u001b[38;5;124m'\u001b[39m\u001b[38;5;124m open.\u001b[39m\u001b[38;5;124m\"\u001b[39m\n\u001b[1;32m    322\u001b[0m     )\n\u001b[0;32m--> 324\u001b[0m \u001b[38;5;28;01mreturn\u001b[39;00m \u001b[43mio_open\u001b[49m\u001b[43m(\u001b[49m\u001b[43mfile\u001b[49m\u001b[43m,\u001b[49m\u001b[43m \u001b[49m\u001b[38;5;241;43m*\u001b[39;49m\u001b[43margs\u001b[49m\u001b[43m,\u001b[49m\u001b[43m \u001b[49m\u001b[38;5;241;43m*\u001b[39;49m\u001b[38;5;241;43m*\u001b[39;49m\u001b[43mkwargs\u001b[49m\u001b[43m)\u001b[49m\n",
      "\u001b[0;31mFileNotFoundError\u001b[0m: [Errno 2] No such file or directory: 'emoji_sentiment_RFR.pkl'"
     ]
    }
   ],
   "source": [
    "import re\n",
    "import gensim\n",
    "import numpy as np\n",
    "import pickle\n",
    "import emoji\n",
    "import torch\n",
    "from transformers import BertTokenizer, BertModel\n",
    "\n",
    "# Load trained RandomForestRegressor model (expects 1068 features)\n",
    "with open(\"emoji_sentiment_RFR.pkl\", \"rb\") as f:\n",
    "    model = pickle.load(f)\n",
    "\n",
    "# Load Emoji2Vec model\n",
    "emoji2vec_path = \"emoji2vec/pre-trained/emoji2vec.bin\"  # Change to your actual path\n",
    "emoji_model = gensim.models.KeyedVectors.load_word2vec_format(emoji2vec_path, binary=True)\n",
    "\n",
    "# Load BERT model for text embeddings\n",
    "bert_model_name = \"bert-base-uncased\"\n",
    "tokenizer = BertTokenizer.from_pretrained(bert_model_name)\n",
    "bert_model = BertModel.from_pretrained(bert_model_name)\n"
   ]
  },
  {
   "cell_type": "code",
   "execution_count": 27,
   "id": "3d959d1b-cb95-4426-bb95-c48adf31eb0c",
   "metadata": {},
   "outputs": [],
   "source": [
    "def extract_emojis(text):\n",
    "    \"\"\"Extract all emojis from text\"\"\"\n",
    "    return ''.join(c for c in text if c in emoji.EMOJI_DATA)\n",
    "\n",
    "def remove_emojis(text):\n",
    "    \"\"\"Remove emojis from text to extract pure words\"\"\"\n",
    "    return emoji.replace_emoji(text, replace='')\n",
    "\n",
    "def get_emoji_embedding(emoji_char):\n",
    "    \"\"\"Extract embedding for a given emoji\"\"\"\n",
    "    try:\n",
    "        return emoji_model[emoji_char]\n",
    "    except KeyError:\n",
    "        return np.zeros(300)  # Return zero vector if emoji not found\n",
    "\n",
    "def get_text_embedding(text):\n",
    "    \"\"\"Get BERT embedding for text description\"\"\"\n",
    "    tokens = tokenizer(text, return_tensors=\"pt\", padding=True, truncation=True, max_length=10)\n",
    "    with torch.no_grad():\n",
    "        output = bert_model(**tokens)\n",
    "    return output.last_hidden_state.mean(dim=1).squeeze().numpy()  # Mean pooled embedding\n"
   ]
  },
  {
   "cell_type": "code",
   "execution_count": 28,
   "id": "2cde1669-9a34-4a67-8a22-52f48fcacd29",
   "metadata": {},
   "outputs": [],
   "source": [
    "def predict_sentiment(user_input):\n",
    "    \"\"\"Predict sentiment score based on user input containing text and emojis\"\"\"\n",
    "    \n",
    "    # Extract emojis and text separately\n",
    "    extracted_emojis = extract_emojis(user_input)\n",
    "    cleaned_text = remove_emojis(user_input)\n",
    "\n",
    "    # Get embeddings\n",
    "    emoji_embeddings = np.zeros(300)  # Default to zero vector\n",
    "    if extracted_emojis:\n",
    "        emoji_embeddings = np.mean([get_emoji_embedding(e) for e in extracted_emojis], axis=0)\n",
    "\n",
    "    text_embedding = get_text_embedding(cleaned_text)\n",
    "\n",
    "    # Combine features (Emoji2Vec + BERT) to match model input (1068-d)\n",
    "    combined_features = np.hstack((emoji_embeddings, text_embedding)).reshape(1, -1)\n",
    "\n",
    "    # Predict sentiment score\n",
    "    predicted_score = model.predict(combined_features)[0]\n",
    "\n",
    "    return predicted_score\n"
   ]
  },
  {
   "cell_type": "code",
   "execution_count": 29,
   "id": "bfc44d9a-5573-46f0-a2a6-cba531b01846",
   "metadata": {},
   "outputs": [
    {
     "name": "stdout",
     "output_type": "stream",
     "text": [
      "Sentiment Score for 'I love this! ❤️': 0.57875\n",
      "Sentiment Score for 'I'm so sad... 😢': 0.62\n",
      "Sentiment Score for 'What a weird day 🤖🧐': 0.5445\n"
     ]
    }
   ],
   "source": [
    "# Example inputs\n",
    "user_text1 = \"I love this! ❤️\"  # Positive sentiment\n",
    "user_text2 = \"I'm so sad... 😢\"  # Negative sentiment\n",
    "user_text3 = \"What a weird day 🤖🧐\"  # Neutral sentiment\n",
    "\n",
    "# Predict sentiment scores\n",
    "print(f\"Sentiment Score for '{user_text1}': {predict_sentiment(user_text1)}\")\n",
    "print(f\"Sentiment Score for '{user_text2}': {predict_sentiment(user_text2)}\")\n",
    "print(f\"Sentiment Score for '{user_text3}': {predict_sentiment(user_text3)}\")\n"
   ]
  },
  {
   "cell_type": "code",
   "execution_count": null,
   "id": "63fb08b2-f4cc-40c7-8087-9b3d040c88a2",
   "metadata": {},
   "outputs": [],
   "source": []
  },
  {
   "cell_type": "code",
   "execution_count": 3,
   "id": "004d5f98-f918-4088-8d24-60b85432b62e",
   "metadata": {},
   "outputs": [
    {
     "ename": "NameError",
     "evalue": "name 'nn_model' is not defined",
     "output_type": "error",
     "traceback": [
      "\u001b[0;31m---------------------------------------------------------------------------\u001b[0m",
      "\u001b[0;31mNameError\u001b[0m                                 Traceback (most recent call last)",
      "Cell \u001b[0;32mIn[3], line 2\u001b[0m\n\u001b[1;32m      1\u001b[0m \u001b[38;5;66;03m# Load Model\u001b[39;00m\n\u001b[0;32m----> 2\u001b[0m \u001b[43mnn_model\u001b[49m\u001b[38;5;241m.\u001b[39mload_state_dict(torch\u001b[38;5;241m.\u001b[39mload(\u001b[38;5;124m\"\u001b[39m\u001b[38;5;124mmodel/emoji_sentiment_NN.pth\u001b[39m\u001b[38;5;124m\"\u001b[39m))\n\u001b[1;32m      3\u001b[0m nn_model\u001b[38;5;241m.\u001b[39meval()\n\u001b[1;32m      5\u001b[0m \u001b[38;5;66;03m# Example text & emoji\u001b[39;00m\n",
      "\u001b[0;31mNameError\u001b[0m: name 'nn_model' is not defined"
     ]
    }
   ],
   "source": [
    "# Load Model\n",
    "nn_model.load_state_dict(torch.load(\"model/emoji_sentiment_NN.pth\"))\n",
    "nn_model.eval()\n",
    "\n",
    "# Example text & emoji\n",
    "sample_text = \"This is awesome!\"\n",
    "sample_emoji = \"🔥\"\n",
    "\n",
    "# Convert text and emoji to embeddings\n",
    "sample_text_embedding = get_text_embedding(sample_text)  # (768,)\n",
    "sample_emoji_embedding = emoji2vec_model[sample_emoji] if sample_emoji in emoji2vec_model else np.zeros(300)  # (300,)\n",
    "\n",
    "# Merge embeddings\n",
    "sample_embedding = np.hstack((sample_text_embedding, sample_emoji_embedding))  # (1068,)\n",
    "\n",
    "# Convert to PyTorch tensor\n",
    "sample_tensor = torch.tensor(sample_embedding, dtype=torch.float32).view(1, -1)\n",
    "\n",
    "# Predict sentiment\n",
    "predicted_sentiment = nn_model(sample_tensor).item()\n",
    "print(f\"Predicted Sentiment Score for '{sample_text} {sample_emoji}': {predicted_sentiment:.4f}\")\n"
   ]
  },
  {
   "cell_type": "code",
   "execution_count": null,
   "id": "7b23eac0-8422-4080-b61b-bfba64acb94e",
   "metadata": {},
   "outputs": [],
   "source": []
  }
 ],
 "metadata": {
  "kernelspec": {
   "display_name": "Python 3 (ipykernel)",
   "language": "python",
   "name": "python3"
  },
  "language_info": {
   "codemirror_mode": {
    "name": "ipython",
    "version": 3
   },
   "file_extension": ".py",
   "mimetype": "text/x-python",
   "name": "python",
   "nbconvert_exporter": "python",
   "pygments_lexer": "ipython3",
   "version": "3.12.7"
  }
 },
 "nbformat": 4,
 "nbformat_minor": 5
}
